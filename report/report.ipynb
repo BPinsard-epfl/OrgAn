{
 "cells": [
  {
   "cell_type": "markdown",
   "id": "027e8609",
   "metadata": {},
   "source": [
    "# OrgAn: Molecular Analysis and Chromatographic Simulation\n",
    "\n",
    "*Raphaël Tisseyre, Bastien Pinsard, Johan Schmidt*\n",
    "\n",
    "OrgAn is a computational framework designed for the extraction, analysis, and simulation of molecular properties in the context of organic chemistry.\n",
    "\n",
    "This notebook presents a modular workflow to:\n",
    "- Load molecular data from a CSV file containing SMILES representations,\n",
    "- Retrieve physicochemical and structural descriptors from external chemical databases (e.g., PubChem),\n",
    "- Apply analytical functions to explore molecular trends such as acidity and hydrophobicity,\n",
    "- Simulate chromatographic separation based on calculated parameters.\n",
    "\n",
    "All modules are designed to operate on standardized input formats and produce structured outputs suitable for further analysis or visualization."
   ]
  },
  {
   "cell_type": "code",
   "execution_count": null,
   "id": "d8166ffb",
   "metadata": {},
   "outputs": [],
   "source": [
    "import os  \n",
    "import sys  \n",
    "\n",
    "current_dir = os.getcwd()  \n",
    "target_dir_relative = os.path.join(\"src\", \"OrgAn\")  \n",
    "target_dir_absolute = os.path.abspath(os.path.join(current_dir, target_dir_relative))  \n",
    "sys.path.append(target_dir_absolute)"
   ]
  },
  {
   "cell_type": "markdown",
   "id": "454afeca",
   "metadata": {},
   "source": [
    "### 1. Building the Dataset from a CSV File\n",
    "\n",
    "In order to initiate molecular property analysis, a dataset must first be constructed from a user-provided CSV file. The expected input is a `.csv` file containing a single column labeled `smiles`, where each row represents a molecule encoded in the SMILES (Simplified Molecular Input Line Entry System) format.\n",
    "\n",
    "**Example:**\n",
    "\n",
    "```\n",
    "smiles\n",
    "CCO\n",
    "c1ccccc1\n",
    "CC(=O)O"
   ]
  },
  {
   "cell_type": "markdown",
   "id": "5fb6c7a8",
   "metadata": {},
   "source": [
    "This file serves as the primary input for all subsequent data processing steps. Each SMILES string will be used to extract physicochemical and structural properties from internal or external databases. The resulting dataset is formatted as a `pandas.DataFrame`, which can then be processed using the functions defined in this project. In order to build the DataFrame we must first define the function which collect the data from external database."
   ]
  },
  {
   "cell_type": "markdown",
   "id": "6b589741",
   "metadata": {},
   "source": [
    "### 1.1 PubChem Request\n",
    "\n",
    "The function `get_mol_info_from_smiles` allows you to fetch detailed molecular descriptors and structural data from an online chemical database (PubChem) using a single SMILES string.\n",
    "\n",
    "**How it works:**  \n",
    "It collects key information such as the canonical SMILES, IUPAC name, molecular weight, formula, logP, formal charge, and CAS number. When available, pKa values are also retrieved and parsed. If 3D structural data is accessible, Sterimol descriptors (L, B1, B5) are computed using the `morfeus` library.\n",
    "\n",
    "The function returns all gathered data in a dictionary format. Missing values are handled gracefully and replaced with `None` when not found.\n",
    "\n",
    "**Uses:**  \n",
    "This function is used to programmatically obtain molecular data when a compound is not already present in the local dataset. It is internally called within the `gives_data_frame` function to supplement or complete entries in the main molecular database.\n",
    "\n",
    "The extracted data ensures compatibility with downstream analysis steps such as property filtering, clustering, and chromatographic modeling.\n",
    "\n",
    "**Example:** "
   ]
  },
  {
   "cell_type": "code",
   "execution_count": null,
   "id": "1e13bd4c",
   "metadata": {},
   "outputs": [],
   "source": [
    "from OrgAn import get_mol_info_from_smiles\n",
    "\n",
    "smiles = \"CC(=O)Oc1ccccc1C(=O)O\"  # Aspirin\n",
    "info = get_mol_info_from_smiles(smiles)\n",
    "print(info)"
   ]
  },
  {
   "cell_type": "markdown",
   "id": "2f2d905d",
   "metadata": {},
   "source": [
    "### 2.2 Dataframe building\n",
    "\n",
    "With the request function defined, the `gives_dataframe` function can be used to find the properties of the user’s CSV table. \n",
    "\n",
    " \n",
    "\n",
    "__How it works:__ \n",
    "\n",
    "The function will first search in the package database for the properties of the compound, yet if no compounds match, it will do a Pubchem request to gather the properties. This order will thought to save time, as the requests take more times than collecting data in the database as experimented in the example above. \n",
    "\n",
    "__Uses:__ \n",
    "\n",
    "The main use is to form a DataFrame to handle data more easily thanks to the basic `Pandas` functions or with the functions shown in the next section. However, it also can be used to construct a data base for all the components in a laboratory.  "
   ]
  },
  {
   "cell_type": "code",
   "execution_count": 4,
   "id": "2900fa8d",
   "metadata": {},
   "outputs": [
    {
     "ename": "FileNotFoundError",
     "evalue": "[Errno 2] No such file or directory: 'data\\\\data.csv'",
     "output_type": "error",
     "traceback": [
      "\u001b[31m---------------------------------------------------------------------------\u001b[39m",
      "\u001b[31mFileNotFoundError\u001b[39m                         Traceback (most recent call last)",
      "\u001b[36mCell\u001b[39m\u001b[36m \u001b[39m\u001b[32mIn[4]\u001b[39m\u001b[32m, line 1\u001b[39m\n\u001b[32m----> \u001b[39m\u001b[32m1\u001b[39m \u001b[38;5;28;01mfrom\u001b[39;00m\u001b[38;5;250m \u001b[39m\u001b[34;01mOrgAn\u001b[39;00m\u001b[38;5;250m \u001b[39m\u001b[38;5;28;01mimport\u001b[39;00m gives_data_frame\n\u001b[32m      3\u001b[39m gives_data_frame(\u001b[33m\"\u001b[39m\u001b[33mdata_example.csv\u001b[39m\u001b[33m\"\u001b[39m)\n",
      "\u001b[36mFile \u001b[39m\u001b[32m~\\Documents\\epfl\\BA4\\Practical_Programming_in_Chemistry\\Project-pka\\OrgAn\\src\\OrgAn\\__init__.py:5\u001b[39m\n\u001b[32m      3\u001b[39m \u001b[38;5;28;01mfrom\u001b[39;00m\u001b[38;5;250m \u001b[39m\u001b[34;01m.\u001b[39;00m\u001b[34;01mpchem_rq\u001b[39;00m\u001b[38;5;250m \u001b[39m\u001b[38;5;28;01mimport\u001b[39;00m get_mol_info_from_smiles\n\u001b[32m      4\u001b[39m \u001b[38;5;28;01mfrom\u001b[39;00m\u001b[38;5;250m \u001b[39m\u001b[34;01m.\u001b[39;00m\u001b[34;01mchromato\u001b[39;00m\u001b[38;5;250m \u001b[39m\u001b[38;5;28;01mimport\u001b[39;00m get_elution_order, calculate_polarity_index, generate_chromatogram\n\u001b[32m----> \u001b[39m\u001b[32m5\u001b[39m \u001b[38;5;28;01mfrom\u001b[39;00m\u001b[38;5;250m \u001b[39m\u001b[34;01m.\u001b[39;00m\u001b[34;01mfunctions\u001b[39;00m\u001b[38;5;250m \u001b[39m\u001b[38;5;28;01mimport\u001b[39;00m gives_data_frame, find_pKa_gaps, find_logp_gaps, find_compounds\n\u001b[32m      8\u001b[39m Version = \u001b[33m\"\u001b[39m\u001b[33m1.0.0\u001b[39m\u001b[33m\"\u001b[39m\n",
      "\u001b[36mFile \u001b[39m\u001b[32m~\\Documents\\epfl\\BA4\\Practical_Programming_in_Chemistry\\Project-pka\\OrgAn\\src\\OrgAn\\functions.py:11\u001b[39m\n\u001b[32m      9\u001b[39m p_data = Path(\u001b[33m\"\u001b[39m\u001b[33m.\u001b[39m\u001b[33m\"\u001b[39m)\n\u001b[32m     10\u001b[39m datapath = p_data / \u001b[33m\"\u001b[39m\u001b[33mdata\u001b[39m\u001b[33m\"\u001b[39m / \u001b[33m\"\u001b[39m\u001b[33mdata.csv\u001b[39m\u001b[33m\"\u001b[39m\n\u001b[32m---> \u001b[39m\u001b[32m11\u001b[39m data : pd.DataFrame = \u001b[43mpd\u001b[49m\u001b[43m.\u001b[49m\u001b[43mread_csv\u001b[49m\u001b[43m(\u001b[49m\u001b[43mdatapath\u001b[49m\u001b[43m)\u001b[49m\n\u001b[32m     14\u001b[39m \u001b[38;5;28;01mdef\u001b[39;00m\u001b[38;5;250m \u001b[39m\u001b[34mgives_data_frame\u001b[39m(file : \u001b[38;5;28mstr\u001b[39m) -> pd.DataFrame: \u001b[38;5;66;03m# TODO: give a more \"conventional\" name\u001b[39;00m\n\u001b[32m     15\u001b[39m \u001b[38;5;250m    \u001b[39m\u001b[33;03m\"\"\"\u001b[39;00m\n\u001b[32m     16\u001b[39m \u001b[33;03m    Take a list of smile from a file and return a dataframe \u001b[39;00m\n\u001b[32m     17\u001b[39m \u001b[33;03m    with proprieties of each molecule according to PubChem.\u001b[39;00m\n\u001b[32m   (...)\u001b[39m\u001b[32m     25\u001b[39m \u001b[33;03m    Sterimol is calculated using morfeus.\u001b[39;00m\n\u001b[32m     26\u001b[39m \u001b[33;03m    \"\"\"\u001b[39;00m\n",
      "\u001b[36mFile \u001b[39m\u001b[32mc:\\Users\\Pc\\anaconda3\\envs\\Organ\\Lib\\site-packages\\pandas\\io\\parsers\\readers.py:1026\u001b[39m, in \u001b[36mread_csv\u001b[39m\u001b[34m(filepath_or_buffer, sep, delimiter, header, names, index_col, usecols, dtype, engine, converters, true_values, false_values, skipinitialspace, skiprows, skipfooter, nrows, na_values, keep_default_na, na_filter, verbose, skip_blank_lines, parse_dates, infer_datetime_format, keep_date_col, date_parser, date_format, dayfirst, cache_dates, iterator, chunksize, compression, thousands, decimal, lineterminator, quotechar, quoting, doublequote, escapechar, comment, encoding, encoding_errors, dialect, on_bad_lines, delim_whitespace, low_memory, memory_map, float_precision, storage_options, dtype_backend)\u001b[39m\n\u001b[32m   1013\u001b[39m kwds_defaults = _refine_defaults_read(\n\u001b[32m   1014\u001b[39m     dialect,\n\u001b[32m   1015\u001b[39m     delimiter,\n\u001b[32m   (...)\u001b[39m\u001b[32m   1022\u001b[39m     dtype_backend=dtype_backend,\n\u001b[32m   1023\u001b[39m )\n\u001b[32m   1024\u001b[39m kwds.update(kwds_defaults)\n\u001b[32m-> \u001b[39m\u001b[32m1026\u001b[39m \u001b[38;5;28;01mreturn\u001b[39;00m \u001b[43m_read\u001b[49m\u001b[43m(\u001b[49m\u001b[43mfilepath_or_buffer\u001b[49m\u001b[43m,\u001b[49m\u001b[43m \u001b[49m\u001b[43mkwds\u001b[49m\u001b[43m)\u001b[49m\n",
      "\u001b[36mFile \u001b[39m\u001b[32mc:\\Users\\Pc\\anaconda3\\envs\\Organ\\Lib\\site-packages\\pandas\\io\\parsers\\readers.py:620\u001b[39m, in \u001b[36m_read\u001b[39m\u001b[34m(filepath_or_buffer, kwds)\u001b[39m\n\u001b[32m    617\u001b[39m _validate_names(kwds.get(\u001b[33m\"\u001b[39m\u001b[33mnames\u001b[39m\u001b[33m\"\u001b[39m, \u001b[38;5;28;01mNone\u001b[39;00m))\n\u001b[32m    619\u001b[39m \u001b[38;5;66;03m# Create the parser.\u001b[39;00m\n\u001b[32m--> \u001b[39m\u001b[32m620\u001b[39m parser = \u001b[43mTextFileReader\u001b[49m\u001b[43m(\u001b[49m\u001b[43mfilepath_or_buffer\u001b[49m\u001b[43m,\u001b[49m\u001b[43m \u001b[49m\u001b[43m*\u001b[49m\u001b[43m*\u001b[49m\u001b[43mkwds\u001b[49m\u001b[43m)\u001b[49m\n\u001b[32m    622\u001b[39m \u001b[38;5;28;01mif\u001b[39;00m chunksize \u001b[38;5;129;01mor\u001b[39;00m iterator:\n\u001b[32m    623\u001b[39m     \u001b[38;5;28;01mreturn\u001b[39;00m parser\n",
      "\u001b[36mFile \u001b[39m\u001b[32mc:\\Users\\Pc\\anaconda3\\envs\\Organ\\Lib\\site-packages\\pandas\\io\\parsers\\readers.py:1620\u001b[39m, in \u001b[36mTextFileReader.__init__\u001b[39m\u001b[34m(self, f, engine, **kwds)\u001b[39m\n\u001b[32m   1617\u001b[39m     \u001b[38;5;28mself\u001b[39m.options[\u001b[33m\"\u001b[39m\u001b[33mhas_index_names\u001b[39m\u001b[33m\"\u001b[39m] = kwds[\u001b[33m\"\u001b[39m\u001b[33mhas_index_names\u001b[39m\u001b[33m\"\u001b[39m]\n\u001b[32m   1619\u001b[39m \u001b[38;5;28mself\u001b[39m.handles: IOHandles | \u001b[38;5;28;01mNone\u001b[39;00m = \u001b[38;5;28;01mNone\u001b[39;00m\n\u001b[32m-> \u001b[39m\u001b[32m1620\u001b[39m \u001b[38;5;28mself\u001b[39m._engine = \u001b[38;5;28;43mself\u001b[39;49m\u001b[43m.\u001b[49m\u001b[43m_make_engine\u001b[49m\u001b[43m(\u001b[49m\u001b[43mf\u001b[49m\u001b[43m,\u001b[49m\u001b[43m \u001b[49m\u001b[38;5;28;43mself\u001b[39;49m\u001b[43m.\u001b[49m\u001b[43mengine\u001b[49m\u001b[43m)\u001b[49m\n",
      "\u001b[36mFile \u001b[39m\u001b[32mc:\\Users\\Pc\\anaconda3\\envs\\Organ\\Lib\\site-packages\\pandas\\io\\parsers\\readers.py:1880\u001b[39m, in \u001b[36mTextFileReader._make_engine\u001b[39m\u001b[34m(self, f, engine)\u001b[39m\n\u001b[32m   1878\u001b[39m     \u001b[38;5;28;01mif\u001b[39;00m \u001b[33m\"\u001b[39m\u001b[33mb\u001b[39m\u001b[33m\"\u001b[39m \u001b[38;5;129;01mnot\u001b[39;00m \u001b[38;5;129;01min\u001b[39;00m mode:\n\u001b[32m   1879\u001b[39m         mode += \u001b[33m\"\u001b[39m\u001b[33mb\u001b[39m\u001b[33m\"\u001b[39m\n\u001b[32m-> \u001b[39m\u001b[32m1880\u001b[39m \u001b[38;5;28mself\u001b[39m.handles = \u001b[43mget_handle\u001b[49m\u001b[43m(\u001b[49m\n\u001b[32m   1881\u001b[39m \u001b[43m    \u001b[49m\u001b[43mf\u001b[49m\u001b[43m,\u001b[49m\n\u001b[32m   1882\u001b[39m \u001b[43m    \u001b[49m\u001b[43mmode\u001b[49m\u001b[43m,\u001b[49m\n\u001b[32m   1883\u001b[39m \u001b[43m    \u001b[49m\u001b[43mencoding\u001b[49m\u001b[43m=\u001b[49m\u001b[38;5;28;43mself\u001b[39;49m\u001b[43m.\u001b[49m\u001b[43moptions\u001b[49m\u001b[43m.\u001b[49m\u001b[43mget\u001b[49m\u001b[43m(\u001b[49m\u001b[33;43m\"\u001b[39;49m\u001b[33;43mencoding\u001b[39;49m\u001b[33;43m\"\u001b[39;49m\u001b[43m,\u001b[49m\u001b[43m \u001b[49m\u001b[38;5;28;43;01mNone\u001b[39;49;00m\u001b[43m)\u001b[49m\u001b[43m,\u001b[49m\n\u001b[32m   1884\u001b[39m \u001b[43m    \u001b[49m\u001b[43mcompression\u001b[49m\u001b[43m=\u001b[49m\u001b[38;5;28;43mself\u001b[39;49m\u001b[43m.\u001b[49m\u001b[43moptions\u001b[49m\u001b[43m.\u001b[49m\u001b[43mget\u001b[49m\u001b[43m(\u001b[49m\u001b[33;43m\"\u001b[39;49m\u001b[33;43mcompression\u001b[39;49m\u001b[33;43m\"\u001b[39;49m\u001b[43m,\u001b[49m\u001b[43m \u001b[49m\u001b[38;5;28;43;01mNone\u001b[39;49;00m\u001b[43m)\u001b[49m\u001b[43m,\u001b[49m\n\u001b[32m   1885\u001b[39m \u001b[43m    \u001b[49m\u001b[43mmemory_map\u001b[49m\u001b[43m=\u001b[49m\u001b[38;5;28;43mself\u001b[39;49m\u001b[43m.\u001b[49m\u001b[43moptions\u001b[49m\u001b[43m.\u001b[49m\u001b[43mget\u001b[49m\u001b[43m(\u001b[49m\u001b[33;43m\"\u001b[39;49m\u001b[33;43mmemory_map\u001b[39;49m\u001b[33;43m\"\u001b[39;49m\u001b[43m,\u001b[49m\u001b[43m \u001b[49m\u001b[38;5;28;43;01mFalse\u001b[39;49;00m\u001b[43m)\u001b[49m\u001b[43m,\u001b[49m\n\u001b[32m   1886\u001b[39m \u001b[43m    \u001b[49m\u001b[43mis_text\u001b[49m\u001b[43m=\u001b[49m\u001b[43mis_text\u001b[49m\u001b[43m,\u001b[49m\n\u001b[32m   1887\u001b[39m \u001b[43m    \u001b[49m\u001b[43merrors\u001b[49m\u001b[43m=\u001b[49m\u001b[38;5;28;43mself\u001b[39;49m\u001b[43m.\u001b[49m\u001b[43moptions\u001b[49m\u001b[43m.\u001b[49m\u001b[43mget\u001b[49m\u001b[43m(\u001b[49m\u001b[33;43m\"\u001b[39;49m\u001b[33;43mencoding_errors\u001b[39;49m\u001b[33;43m\"\u001b[39;49m\u001b[43m,\u001b[49m\u001b[43m \u001b[49m\u001b[33;43m\"\u001b[39;49m\u001b[33;43mstrict\u001b[39;49m\u001b[33;43m\"\u001b[39;49m\u001b[43m)\u001b[49m\u001b[43m,\u001b[49m\n\u001b[32m   1888\u001b[39m \u001b[43m    \u001b[49m\u001b[43mstorage_options\u001b[49m\u001b[43m=\u001b[49m\u001b[38;5;28;43mself\u001b[39;49m\u001b[43m.\u001b[49m\u001b[43moptions\u001b[49m\u001b[43m.\u001b[49m\u001b[43mget\u001b[49m\u001b[43m(\u001b[49m\u001b[33;43m\"\u001b[39;49m\u001b[33;43mstorage_options\u001b[39;49m\u001b[33;43m\"\u001b[39;49m\u001b[43m,\u001b[49m\u001b[43m \u001b[49m\u001b[38;5;28;43;01mNone\u001b[39;49;00m\u001b[43m)\u001b[49m\u001b[43m,\u001b[49m\n\u001b[32m   1889\u001b[39m \u001b[43m\u001b[49m\u001b[43m)\u001b[49m\n\u001b[32m   1890\u001b[39m \u001b[38;5;28;01massert\u001b[39;00m \u001b[38;5;28mself\u001b[39m.handles \u001b[38;5;129;01mis\u001b[39;00m \u001b[38;5;129;01mnot\u001b[39;00m \u001b[38;5;28;01mNone\u001b[39;00m\n\u001b[32m   1891\u001b[39m f = \u001b[38;5;28mself\u001b[39m.handles.handle\n",
      "\u001b[36mFile \u001b[39m\u001b[32mc:\\Users\\Pc\\anaconda3\\envs\\Organ\\Lib\\site-packages\\pandas\\io\\common.py:873\u001b[39m, in \u001b[36mget_handle\u001b[39m\u001b[34m(path_or_buf, mode, encoding, compression, memory_map, is_text, errors, storage_options)\u001b[39m\n\u001b[32m    868\u001b[39m \u001b[38;5;28;01melif\u001b[39;00m \u001b[38;5;28misinstance\u001b[39m(handle, \u001b[38;5;28mstr\u001b[39m):\n\u001b[32m    869\u001b[39m     \u001b[38;5;66;03m# Check whether the filename is to be opened in binary mode.\u001b[39;00m\n\u001b[32m    870\u001b[39m     \u001b[38;5;66;03m# Binary mode does not support 'encoding' and 'newline'.\u001b[39;00m\n\u001b[32m    871\u001b[39m     \u001b[38;5;28;01mif\u001b[39;00m ioargs.encoding \u001b[38;5;129;01mand\u001b[39;00m \u001b[33m\"\u001b[39m\u001b[33mb\u001b[39m\u001b[33m\"\u001b[39m \u001b[38;5;129;01mnot\u001b[39;00m \u001b[38;5;129;01min\u001b[39;00m ioargs.mode:\n\u001b[32m    872\u001b[39m         \u001b[38;5;66;03m# Encoding\u001b[39;00m\n\u001b[32m--> \u001b[39m\u001b[32m873\u001b[39m         handle = \u001b[38;5;28;43mopen\u001b[39;49m\u001b[43m(\u001b[49m\n\u001b[32m    874\u001b[39m \u001b[43m            \u001b[49m\u001b[43mhandle\u001b[49m\u001b[43m,\u001b[49m\n\u001b[32m    875\u001b[39m \u001b[43m            \u001b[49m\u001b[43mioargs\u001b[49m\u001b[43m.\u001b[49m\u001b[43mmode\u001b[49m\u001b[43m,\u001b[49m\n\u001b[32m    876\u001b[39m \u001b[43m            \u001b[49m\u001b[43mencoding\u001b[49m\u001b[43m=\u001b[49m\u001b[43mioargs\u001b[49m\u001b[43m.\u001b[49m\u001b[43mencoding\u001b[49m\u001b[43m,\u001b[49m\n\u001b[32m    877\u001b[39m \u001b[43m            \u001b[49m\u001b[43merrors\u001b[49m\u001b[43m=\u001b[49m\u001b[43merrors\u001b[49m\u001b[43m,\u001b[49m\n\u001b[32m    878\u001b[39m \u001b[43m            \u001b[49m\u001b[43mnewline\u001b[49m\u001b[43m=\u001b[49m\u001b[33;43m\"\u001b[39;49m\u001b[33;43m\"\u001b[39;49m\u001b[43m,\u001b[49m\n\u001b[32m    879\u001b[39m \u001b[43m        \u001b[49m\u001b[43m)\u001b[49m\n\u001b[32m    880\u001b[39m     \u001b[38;5;28;01melse\u001b[39;00m:\n\u001b[32m    881\u001b[39m         \u001b[38;5;66;03m# Binary mode\u001b[39;00m\n\u001b[32m    882\u001b[39m         handle = \u001b[38;5;28mopen\u001b[39m(handle, ioargs.mode)\n",
      "\u001b[31mFileNotFoundError\u001b[39m: [Errno 2] No such file or directory: 'data\\\\data.csv'"
     ]
    }
   ],
   "source": [
    "from OrgAn import gives_data_frame\n",
    "\n",
    "gives_data_frame(\"data_example.csv\")"
   ]
  },
  {
   "cell_type": "markdown",
   "id": "0cdda3c5",
   "metadata": {},
   "source": [
    "### 2. Dataframe functions"
   ]
  },
  {
   "cell_type": "markdown",
   "id": "ac31ff77",
   "metadata": {},
   "source": [
    "This section will explain the functions dedicated to DataFrame handling. "
   ]
  },
  {
   "cell_type": "markdown",
   "id": "feb82951",
   "metadata": {},
   "source": [
    "#### 2.1. PkA and logP gaps "
   ]
  },
  {
   "cell_type": "markdown",
   "id": "3bc2f803",
   "metadata": {},
   "source": [
    "The functions `find_logp_gaps` and `find_pka_gaps` are designed to find the biggest gaps of logp/pka in the DataFrame of entry. The utility behind it is to find separation of hydrophilic phases and hydrophobic ones and the sepration between the acidic compound and the basic one into your sample. \n",
    "\n",
    "**How it works:**  \n",
    "The functions take in entry a Dataframe, which is assumed to be the one returned by `gives_data_frame`, and the number of gaps one wants. It will first sort the dataframe along the logp or pka column. Then a loop goes through it to take the maximum of the differences and the two indexes. At the end, it will return a list with the values of the gaps and the indexes. \n",
    "\n",
    "The function will take in consideration a maximum of difference of $\\pm$ 1.5 for the logP and $\\pm$ 3 for each the sterimol. \n",
    "\n",
    "**Uses:**  \n",
    "In organic chemistry, one will often need to separate compounds which can be quite difficult for complex solutions. However, if one knows the interesting gaps of its solution, one can easily do a separation along the pH or the hydrophilicity. \n",
    "\n",
    "These gaps can also be useful in chromatography for composition gradients managing. Indeed, if one knows the logP gaps, one knows that a change of the composition of eluant can be done to make the chromatography faster and save time. \n",
    "\n",
    "**Example:** "
   ]
  },
  {
   "cell_type": "code",
   "execution_count": null,
   "id": "51492987",
   "metadata": {},
   "outputs": [],
   "source": []
  },
  {
   "cell_type": "markdown",
   "id": "f345a0d7",
   "metadata": {},
   "source": [
    "#### 2.2. Compound suggestion "
   ]
  },
  {
   "cell_type": "markdown",
   "id": "391e9159",
   "metadata": {},
   "source": [
    "The function find_compounds finds the 5 best fits of one’s properties criterion from the database of the package. \n",
    "\n",
    "**How it works:**  \n",
    "The entries of the function are the pka, logp, charge, sterimol (L, B1 and B5) and smile. If the user enters a smile, it will simply search in the database for the precise compound or with a Pubchem request. However, if the user enters no smiles but criterions, the function will sort the database to find the 5 best matches. \n",
    "\n",
    "**Uses:**  \n",
    "This function aims organic chemists in synthesis. Reactions which need an acid or base, are often determined by the charge, the bulkiness, and of course the acidity. It can lead to thermodynamic or kinetic products which have different properties of interest. This applies not only for these types of reactions but whenever one knows the properties of the reactant. \n",
    "\n",
    "**Example:** "
   ]
  },
  {
   "cell_type": "code",
   "execution_count": 3,
   "id": "f89cc071",
   "metadata": {},
   "outputs": [
    {
     "ename": "FileNotFoundError",
     "evalue": "[Errno 2] No such file or directory: 'data\\\\data.csv'",
     "output_type": "error",
     "traceback": [
      "\u001b[31m---------------------------------------------------------------------------\u001b[39m",
      "\u001b[31mFileNotFoundError\u001b[39m                         Traceback (most recent call last)",
      "\u001b[36mCell\u001b[39m\u001b[36m \u001b[39m\u001b[32mIn[3]\u001b[39m\u001b[32m, line 1\u001b[39m\n\u001b[32m----> \u001b[39m\u001b[32m1\u001b[39m \u001b[38;5;28;01mfrom\u001b[39;00m\u001b[38;5;250m \u001b[39m\u001b[34;01mOrgAn\u001b[39;00m\u001b[38;5;250m \u001b[39m\u001b[38;5;28;01mimport\u001b[39;00m find_compounds\n\u001b[32m      2\u001b[39m suggestion_1 = find_compounds(smiles=\u001b[33m\"\u001b[39m\u001b[33mCCO\u001b[39m\u001b[33m\"\u001b[39m)\n\u001b[32m      3\u001b[39m suggestion_2 = find_compounds(pKa = \u001b[32m4\u001b[39m, charge = \u001b[32m0\u001b[39m)\n",
      "\u001b[36mFile \u001b[39m\u001b[32m~\\Documents\\epfl\\BA4\\Practical_Programming_in_Chemistry\\Project-pka\\OrgAn\\src\\OrgAn\\__init__.py:5\u001b[39m\n\u001b[32m      3\u001b[39m \u001b[38;5;28;01mfrom\u001b[39;00m\u001b[38;5;250m \u001b[39m\u001b[34;01m.\u001b[39;00m\u001b[34;01mpchem_rq\u001b[39;00m\u001b[38;5;250m \u001b[39m\u001b[38;5;28;01mimport\u001b[39;00m get_mol_info_from_smiles\n\u001b[32m      4\u001b[39m \u001b[38;5;28;01mfrom\u001b[39;00m\u001b[38;5;250m \u001b[39m\u001b[34;01m.\u001b[39;00m\u001b[34;01mchromato\u001b[39;00m\u001b[38;5;250m \u001b[39m\u001b[38;5;28;01mimport\u001b[39;00m get_elution_order, calculate_polarity_index, generate_chromatogram\n\u001b[32m----> \u001b[39m\u001b[32m5\u001b[39m \u001b[38;5;28;01mfrom\u001b[39;00m\u001b[38;5;250m \u001b[39m\u001b[34;01m.\u001b[39;00m\u001b[34;01mfunctions\u001b[39;00m\u001b[38;5;250m \u001b[39m\u001b[38;5;28;01mimport\u001b[39;00m gives_data_frame, find_pKa_gaps, find_logp_gaps, find_compounds\n\u001b[32m      8\u001b[39m Version = \u001b[33m\"\u001b[39m\u001b[33m1.0.0\u001b[39m\u001b[33m\"\u001b[39m\n",
      "\u001b[36mFile \u001b[39m\u001b[32m~\\Documents\\epfl\\BA4\\Practical_Programming_in_Chemistry\\Project-pka\\OrgAn\\src\\OrgAn\\functions.py:11\u001b[39m\n\u001b[32m      9\u001b[39m p_data = Path(\u001b[33m\"\u001b[39m\u001b[33m.\u001b[39m\u001b[33m\"\u001b[39m)\n\u001b[32m     10\u001b[39m datapath = p_data / \u001b[33m\"\u001b[39m\u001b[33mdata\u001b[39m\u001b[33m\"\u001b[39m / \u001b[33m\"\u001b[39m\u001b[33mdata.csv\u001b[39m\u001b[33m\"\u001b[39m\n\u001b[32m---> \u001b[39m\u001b[32m11\u001b[39m data : pd.DataFrame = \u001b[43mpd\u001b[49m\u001b[43m.\u001b[49m\u001b[43mread_csv\u001b[49m\u001b[43m(\u001b[49m\u001b[43mdatapath\u001b[49m\u001b[43m)\u001b[49m\n\u001b[32m     15\u001b[39m \u001b[38;5;28;01mdef\u001b[39;00m\u001b[38;5;250m \u001b[39m\u001b[34mgives_data_frame\u001b[39m(file : \u001b[38;5;28mstr\u001b[39m) -> pd.DataFrame: \u001b[38;5;66;03m# TODO: give a more \"conventional\" name\u001b[39;00m\n\u001b[32m     16\u001b[39m \u001b[38;5;250m    \u001b[39m\u001b[33;03m\"\"\"\u001b[39;00m\n\u001b[32m     17\u001b[39m \u001b[33;03m    Take a list of smile from a file and return a dataframe \u001b[39;00m\n\u001b[32m     18\u001b[39m \u001b[33;03m    with proprieties of each molecule according to PubChem.\u001b[39;00m\n\u001b[32m   (...)\u001b[39m\u001b[32m     26\u001b[39m \u001b[33;03m    Sterimol is calculated using morfeus.\u001b[39;00m\n\u001b[32m     27\u001b[39m \u001b[33;03m    \"\"\"\u001b[39;00m\n",
      "\u001b[36mFile \u001b[39m\u001b[32mc:\\Users\\Pc\\anaconda3\\envs\\Organ\\Lib\\site-packages\\pandas\\io\\parsers\\readers.py:1026\u001b[39m, in \u001b[36mread_csv\u001b[39m\u001b[34m(filepath_or_buffer, sep, delimiter, header, names, index_col, usecols, dtype, engine, converters, true_values, false_values, skipinitialspace, skiprows, skipfooter, nrows, na_values, keep_default_na, na_filter, verbose, skip_blank_lines, parse_dates, infer_datetime_format, keep_date_col, date_parser, date_format, dayfirst, cache_dates, iterator, chunksize, compression, thousands, decimal, lineterminator, quotechar, quoting, doublequote, escapechar, comment, encoding, encoding_errors, dialect, on_bad_lines, delim_whitespace, low_memory, memory_map, float_precision, storage_options, dtype_backend)\u001b[39m\n\u001b[32m   1013\u001b[39m kwds_defaults = _refine_defaults_read(\n\u001b[32m   1014\u001b[39m     dialect,\n\u001b[32m   1015\u001b[39m     delimiter,\n\u001b[32m   (...)\u001b[39m\u001b[32m   1022\u001b[39m     dtype_backend=dtype_backend,\n\u001b[32m   1023\u001b[39m )\n\u001b[32m   1024\u001b[39m kwds.update(kwds_defaults)\n\u001b[32m-> \u001b[39m\u001b[32m1026\u001b[39m \u001b[38;5;28;01mreturn\u001b[39;00m \u001b[43m_read\u001b[49m\u001b[43m(\u001b[49m\u001b[43mfilepath_or_buffer\u001b[49m\u001b[43m,\u001b[49m\u001b[43m \u001b[49m\u001b[43mkwds\u001b[49m\u001b[43m)\u001b[49m\n",
      "\u001b[36mFile \u001b[39m\u001b[32mc:\\Users\\Pc\\anaconda3\\envs\\Organ\\Lib\\site-packages\\pandas\\io\\parsers\\readers.py:620\u001b[39m, in \u001b[36m_read\u001b[39m\u001b[34m(filepath_or_buffer, kwds)\u001b[39m\n\u001b[32m    617\u001b[39m _validate_names(kwds.get(\u001b[33m\"\u001b[39m\u001b[33mnames\u001b[39m\u001b[33m\"\u001b[39m, \u001b[38;5;28;01mNone\u001b[39;00m))\n\u001b[32m    619\u001b[39m \u001b[38;5;66;03m# Create the parser.\u001b[39;00m\n\u001b[32m--> \u001b[39m\u001b[32m620\u001b[39m parser = \u001b[43mTextFileReader\u001b[49m\u001b[43m(\u001b[49m\u001b[43mfilepath_or_buffer\u001b[49m\u001b[43m,\u001b[49m\u001b[43m \u001b[49m\u001b[43m*\u001b[49m\u001b[43m*\u001b[49m\u001b[43mkwds\u001b[49m\u001b[43m)\u001b[49m\n\u001b[32m    622\u001b[39m \u001b[38;5;28;01mif\u001b[39;00m chunksize \u001b[38;5;129;01mor\u001b[39;00m iterator:\n\u001b[32m    623\u001b[39m     \u001b[38;5;28;01mreturn\u001b[39;00m parser\n",
      "\u001b[36mFile \u001b[39m\u001b[32mc:\\Users\\Pc\\anaconda3\\envs\\Organ\\Lib\\site-packages\\pandas\\io\\parsers\\readers.py:1620\u001b[39m, in \u001b[36mTextFileReader.__init__\u001b[39m\u001b[34m(self, f, engine, **kwds)\u001b[39m\n\u001b[32m   1617\u001b[39m     \u001b[38;5;28mself\u001b[39m.options[\u001b[33m\"\u001b[39m\u001b[33mhas_index_names\u001b[39m\u001b[33m\"\u001b[39m] = kwds[\u001b[33m\"\u001b[39m\u001b[33mhas_index_names\u001b[39m\u001b[33m\"\u001b[39m]\n\u001b[32m   1619\u001b[39m \u001b[38;5;28mself\u001b[39m.handles: IOHandles | \u001b[38;5;28;01mNone\u001b[39;00m = \u001b[38;5;28;01mNone\u001b[39;00m\n\u001b[32m-> \u001b[39m\u001b[32m1620\u001b[39m \u001b[38;5;28mself\u001b[39m._engine = \u001b[38;5;28;43mself\u001b[39;49m\u001b[43m.\u001b[49m\u001b[43m_make_engine\u001b[49m\u001b[43m(\u001b[49m\u001b[43mf\u001b[49m\u001b[43m,\u001b[49m\u001b[43m \u001b[49m\u001b[38;5;28;43mself\u001b[39;49m\u001b[43m.\u001b[49m\u001b[43mengine\u001b[49m\u001b[43m)\u001b[49m\n",
      "\u001b[36mFile \u001b[39m\u001b[32mc:\\Users\\Pc\\anaconda3\\envs\\Organ\\Lib\\site-packages\\pandas\\io\\parsers\\readers.py:1880\u001b[39m, in \u001b[36mTextFileReader._make_engine\u001b[39m\u001b[34m(self, f, engine)\u001b[39m\n\u001b[32m   1878\u001b[39m     \u001b[38;5;28;01mif\u001b[39;00m \u001b[33m\"\u001b[39m\u001b[33mb\u001b[39m\u001b[33m\"\u001b[39m \u001b[38;5;129;01mnot\u001b[39;00m \u001b[38;5;129;01min\u001b[39;00m mode:\n\u001b[32m   1879\u001b[39m         mode += \u001b[33m\"\u001b[39m\u001b[33mb\u001b[39m\u001b[33m\"\u001b[39m\n\u001b[32m-> \u001b[39m\u001b[32m1880\u001b[39m \u001b[38;5;28mself\u001b[39m.handles = \u001b[43mget_handle\u001b[49m\u001b[43m(\u001b[49m\n\u001b[32m   1881\u001b[39m \u001b[43m    \u001b[49m\u001b[43mf\u001b[49m\u001b[43m,\u001b[49m\n\u001b[32m   1882\u001b[39m \u001b[43m    \u001b[49m\u001b[43mmode\u001b[49m\u001b[43m,\u001b[49m\n\u001b[32m   1883\u001b[39m \u001b[43m    \u001b[49m\u001b[43mencoding\u001b[49m\u001b[43m=\u001b[49m\u001b[38;5;28;43mself\u001b[39;49m\u001b[43m.\u001b[49m\u001b[43moptions\u001b[49m\u001b[43m.\u001b[49m\u001b[43mget\u001b[49m\u001b[43m(\u001b[49m\u001b[33;43m\"\u001b[39;49m\u001b[33;43mencoding\u001b[39;49m\u001b[33;43m\"\u001b[39;49m\u001b[43m,\u001b[49m\u001b[43m \u001b[49m\u001b[38;5;28;43;01mNone\u001b[39;49;00m\u001b[43m)\u001b[49m\u001b[43m,\u001b[49m\n\u001b[32m   1884\u001b[39m \u001b[43m    \u001b[49m\u001b[43mcompression\u001b[49m\u001b[43m=\u001b[49m\u001b[38;5;28;43mself\u001b[39;49m\u001b[43m.\u001b[49m\u001b[43moptions\u001b[49m\u001b[43m.\u001b[49m\u001b[43mget\u001b[49m\u001b[43m(\u001b[49m\u001b[33;43m\"\u001b[39;49m\u001b[33;43mcompression\u001b[39;49m\u001b[33;43m\"\u001b[39;49m\u001b[43m,\u001b[49m\u001b[43m \u001b[49m\u001b[38;5;28;43;01mNone\u001b[39;49;00m\u001b[43m)\u001b[49m\u001b[43m,\u001b[49m\n\u001b[32m   1885\u001b[39m \u001b[43m    \u001b[49m\u001b[43mmemory_map\u001b[49m\u001b[43m=\u001b[49m\u001b[38;5;28;43mself\u001b[39;49m\u001b[43m.\u001b[49m\u001b[43moptions\u001b[49m\u001b[43m.\u001b[49m\u001b[43mget\u001b[49m\u001b[43m(\u001b[49m\u001b[33;43m\"\u001b[39;49m\u001b[33;43mmemory_map\u001b[39;49m\u001b[33;43m\"\u001b[39;49m\u001b[43m,\u001b[49m\u001b[43m \u001b[49m\u001b[38;5;28;43;01mFalse\u001b[39;49;00m\u001b[43m)\u001b[49m\u001b[43m,\u001b[49m\n\u001b[32m   1886\u001b[39m \u001b[43m    \u001b[49m\u001b[43mis_text\u001b[49m\u001b[43m=\u001b[49m\u001b[43mis_text\u001b[49m\u001b[43m,\u001b[49m\n\u001b[32m   1887\u001b[39m \u001b[43m    \u001b[49m\u001b[43merrors\u001b[49m\u001b[43m=\u001b[49m\u001b[38;5;28;43mself\u001b[39;49m\u001b[43m.\u001b[49m\u001b[43moptions\u001b[49m\u001b[43m.\u001b[49m\u001b[43mget\u001b[49m\u001b[43m(\u001b[49m\u001b[33;43m\"\u001b[39;49m\u001b[33;43mencoding_errors\u001b[39;49m\u001b[33;43m\"\u001b[39;49m\u001b[43m,\u001b[49m\u001b[43m \u001b[49m\u001b[33;43m\"\u001b[39;49m\u001b[33;43mstrict\u001b[39;49m\u001b[33;43m\"\u001b[39;49m\u001b[43m)\u001b[49m\u001b[43m,\u001b[49m\n\u001b[32m   1888\u001b[39m \u001b[43m    \u001b[49m\u001b[43mstorage_options\u001b[49m\u001b[43m=\u001b[49m\u001b[38;5;28;43mself\u001b[39;49m\u001b[43m.\u001b[49m\u001b[43moptions\u001b[49m\u001b[43m.\u001b[49m\u001b[43mget\u001b[49m\u001b[43m(\u001b[49m\u001b[33;43m\"\u001b[39;49m\u001b[33;43mstorage_options\u001b[39;49m\u001b[33;43m\"\u001b[39;49m\u001b[43m,\u001b[49m\u001b[43m \u001b[49m\u001b[38;5;28;43;01mNone\u001b[39;49;00m\u001b[43m)\u001b[49m\u001b[43m,\u001b[49m\n\u001b[32m   1889\u001b[39m \u001b[43m\u001b[49m\u001b[43m)\u001b[49m\n\u001b[32m   1890\u001b[39m \u001b[38;5;28;01massert\u001b[39;00m \u001b[38;5;28mself\u001b[39m.handles \u001b[38;5;129;01mis\u001b[39;00m \u001b[38;5;129;01mnot\u001b[39;00m \u001b[38;5;28;01mNone\u001b[39;00m\n\u001b[32m   1891\u001b[39m f = \u001b[38;5;28mself\u001b[39m.handles.handle\n",
      "\u001b[36mFile \u001b[39m\u001b[32mc:\\Users\\Pc\\anaconda3\\envs\\Organ\\Lib\\site-packages\\pandas\\io\\common.py:873\u001b[39m, in \u001b[36mget_handle\u001b[39m\u001b[34m(path_or_buf, mode, encoding, compression, memory_map, is_text, errors, storage_options)\u001b[39m\n\u001b[32m    868\u001b[39m \u001b[38;5;28;01melif\u001b[39;00m \u001b[38;5;28misinstance\u001b[39m(handle, \u001b[38;5;28mstr\u001b[39m):\n\u001b[32m    869\u001b[39m     \u001b[38;5;66;03m# Check whether the filename is to be opened in binary mode.\u001b[39;00m\n\u001b[32m    870\u001b[39m     \u001b[38;5;66;03m# Binary mode does not support 'encoding' and 'newline'.\u001b[39;00m\n\u001b[32m    871\u001b[39m     \u001b[38;5;28;01mif\u001b[39;00m ioargs.encoding \u001b[38;5;129;01mand\u001b[39;00m \u001b[33m\"\u001b[39m\u001b[33mb\u001b[39m\u001b[33m\"\u001b[39m \u001b[38;5;129;01mnot\u001b[39;00m \u001b[38;5;129;01min\u001b[39;00m ioargs.mode:\n\u001b[32m    872\u001b[39m         \u001b[38;5;66;03m# Encoding\u001b[39;00m\n\u001b[32m--> \u001b[39m\u001b[32m873\u001b[39m         handle = \u001b[38;5;28;43mopen\u001b[39;49m\u001b[43m(\u001b[49m\n\u001b[32m    874\u001b[39m \u001b[43m            \u001b[49m\u001b[43mhandle\u001b[49m\u001b[43m,\u001b[49m\n\u001b[32m    875\u001b[39m \u001b[43m            \u001b[49m\u001b[43mioargs\u001b[49m\u001b[43m.\u001b[49m\u001b[43mmode\u001b[49m\u001b[43m,\u001b[49m\n\u001b[32m    876\u001b[39m \u001b[43m            \u001b[49m\u001b[43mencoding\u001b[49m\u001b[43m=\u001b[49m\u001b[43mioargs\u001b[49m\u001b[43m.\u001b[49m\u001b[43mencoding\u001b[49m\u001b[43m,\u001b[49m\n\u001b[32m    877\u001b[39m \u001b[43m            \u001b[49m\u001b[43merrors\u001b[49m\u001b[43m=\u001b[49m\u001b[43merrors\u001b[49m\u001b[43m,\u001b[49m\n\u001b[32m    878\u001b[39m \u001b[43m            \u001b[49m\u001b[43mnewline\u001b[49m\u001b[43m=\u001b[49m\u001b[33;43m\"\u001b[39;49m\u001b[33;43m\"\u001b[39;49m\u001b[43m,\u001b[49m\n\u001b[32m    879\u001b[39m \u001b[43m        \u001b[49m\u001b[43m)\u001b[49m\n\u001b[32m    880\u001b[39m     \u001b[38;5;28;01melse\u001b[39;00m:\n\u001b[32m    881\u001b[39m         \u001b[38;5;66;03m# Binary mode\u001b[39;00m\n\u001b[32m    882\u001b[39m         handle = \u001b[38;5;28mopen\u001b[39m(handle, ioargs.mode)\n",
      "\u001b[31mFileNotFoundError\u001b[39m: [Errno 2] No such file or directory: 'data\\\\data.csv'"
     ]
    }
   ],
   "source": [
    "from OrgAn import find_compounds\n",
    "suggestion_1 = find_compounds(smiles=\"CCO\")\n",
    "suggestion_2 = find_compounds(pKa = 4, charge = 0)"
   ]
  },
  {
   "cell_type": "markdown",
   "id": "c050dc5f",
   "metadata": {},
   "source": [
    "### 3. Chromatography"
   ]
  },
  {
   "cell_type": "markdown",
   "id": "b0fb4cc0",
   "metadata": {},
   "source": [
    "#### 3.1. Elution order estimation"
   ]
  },
  {
   "cell_type": "markdown",
   "id": "ee170433",
   "metadata": {},
   "source": [
    "The function `get_elution_order` estimates an elution order by sorting given compounds by their logP values. Since the logP is an indication of the hydrophobicity of a compound, it can be used to estimate the elution order in liquid chromatography. However, this is only an estimation as the elution order also depends on factors such as hydrogen bonds and dipole moments, which are not taken into account in the logP value."
   ]
  },
  {
   "cell_type": "markdown",
   "id": "b113afc8",
   "metadata": {},
   "source": [
    "**How it works**\n",
    "\n",
    "The function has two parameters: `solutes` and `is_reverse_phase`. \n",
    "`solutes` is a dataframe containing the logP of the solutes (e.g. generated using `gives_data_frame`).\n",
    "`is_reverse_phase` is a boolean determining if the chromatography is normal phase or reverse phase.\n",
    "\n",
    "The function then sorts the dataframe by the value of each compound's logP, in descending order if the chromatography is normal phase, in ascending order if it is reverse phase. The function then outputs the sorted dataframe."
   ]
  },
  {
   "cell_type": "markdown",
   "id": "f87cd474",
   "metadata": {},
   "source": [
    "**Uses**\n",
    "\n",
    "Estimating the elution order can help the user plan for their chromatography. For example, it can help them decide whether to use normal phase or reverse phase."
   ]
  },
  {
   "cell_type": "markdown",
   "id": "353d6248",
   "metadata": {},
   "source": [
    "**Example**"
   ]
  },
  {
   "cell_type": "code",
   "execution_count": null,
   "id": "2e2d83dd",
   "metadata": {},
   "outputs": [],
   "source": [
    "from functions import gives_data_frame\n",
    "from chromato import get_elution_order\n",
    "\n",
    "solutes = gives_data_frame(\"tests/test_data.csv\")\n",
    "print(get_elution_order(solutes))"
   ]
  },
  {
   "cell_type": "markdown",
   "id": "eaaad72e",
   "metadata": {},
   "source": [
    "#### 3.2. Polarity index calculation"
   ]
  },
  {
   "cell_type": "markdown",
   "id": "43a954fc",
   "metadata": {},
   "source": [
    "The function `calculate_polarity_index` calculates the polarity index of an eluant using the table 28.4.1 provided [here](https://chem.libretexts.org/Bookshelves/Analytical_Chemistry/Instrumental_Analysis_(LibreTexts)/28%3A_High-Performance_Liquid_Chromatography/28.04%3A_Partition_Chromatography).  "
   ]
  },
  {
   "cell_type": "markdown",
   "id": "9adcf375",
   "metadata": {},
   "source": [
    "**How it works**\n",
    "\n",
    "The function's parameters are: `cyclohex`, `n_hex`, `ccl4`, `ipr_ether`, `toluene`, `et2o`, `thf`, `etoh`, `etoac`, `dioxane`, `meoh`, `mecn` and `water`, all `float`.\n",
    "\n",
    "The parameters correspond to the volume fractions of, respectively, cyclohexane, n-hexane, carbon tetrachloride, isopropyl ether, toluene, diethyl ether, tetrahydrofuran, ethanol, ethyl acetate, 1,4-dioxane, methanol, acetonitrile and water present in the eluant.\n",
    "\n",
    "If the total value of the volume fractions exceeds 1, the function raises a `ValueError`.\n",
    "\n",
    "The function returns the polarity index of the eluant as a `float`."
   ]
  },
  {
   "cell_type": "markdown",
   "id": "aa2e1133",
   "metadata": {},
   "source": [
    "**Uses**\n",
    "\n",
    "Calculating the polarity index of an eluant helps the user plan for their chromatography, as the polarity of the eluant plays an important role on how well different solutes are separated, since a small variation in polarity index can induce a large variation on the retention factor."
   ]
  },
  {
   "cell_type": "markdown",
   "id": "88c9e2c9",
   "metadata": {},
   "source": [
    "**Example:**"
   ]
  },
  {
   "cell_type": "code",
   "execution_count": null,
   "id": "91ed7fbb",
   "metadata": {},
   "outputs": [],
   "source": [
    "from chromato import calculate_polarity_index\n",
    "\n",
    "print(calculate_polarity_index(n_hex = 0.4, etoac = 0.6))"
   ]
  },
  {
   "cell_type": "markdown",
   "id": "ade47e1e",
   "metadata": {},
   "source": [
    "#### 3.3. Retention factor estimation"
   ]
  },
  {
   "cell_type": "markdown",
   "id": "69a9653d",
   "metadata": {},
   "source": [
    "The function `estimate_retention_factor` estimates a retention factor for reverse phase chromatography based on a given logP value and polarity index. However, this is only an estimation and has limitations. As stated before, the retention factor depends on more than just the logP, and later we make several more approximations, for example that octanol and the stationary phase in reverse phase chromatography are equivalent – they similar, but not equivalent.\n",
    "\n"
   ]
  },
  {
   "cell_type": "markdown",
   "id": "bf79948f",
   "metadata": {},
   "source": [
    "**How it works**\n",
    "\n",
    "The function has two parameters: `logP` and `polarity_index`, both `float`. The `logP` parameter is the logP value of the solute of which the user wants to calculate the retention factor, and `polarity_index` is the polarity index of the eluant, for example as calculated by `calculate_polarity_index`.\n",
    "\n",
    "The retention factor is then calculated using the following formula: $ \\log k = \\log P - 0.5\\cdot(10.2-P') $.\n",
    "\n",
    "Since the retention factor is the partition coefficient between the stationary phase and the mobile phase, and the logP is the log of the partition coefficient between octanol and water, the retention factor in reverse phase chromatography and logP must be correlated, as the stationary phase is usually made out of alcanes of similar length to octanol.\n",
    "\n",
    "[This article](https://chem.libretexts.org/Bookshelves/Analytical_Chemistry/Instrumental_Analysis_(LibreTexts)/28%3A_High-Performance_Liquid_Chromatography/28.04%3A_Partition_Chromatography) states: \n",
    "> As a general rule, a two unit change in the polarity index corresponds to an approximately 10-fold change in a solute’s retention factor. Here is a simple example. If a solute’s retention factor, k, is 22 when using water as a mobile phase (P′ = 10.2), then switching to a mobile phase of 60:40 water–methanol (P′ = 8.2) decreases k to approximately 2.2.\n",
    "\n",
    "Which means that the polarity index is an exponential function of the retention factor, or, in other words, that the log of the retention factor (logk) is proportional to the polarity index. We thus get as a general function:\n",
    "\n",
    "$$\n",
    "    \\tag 1\n",
    "    \\log k = a \\cdot P' + b\n",
    "$$\n",
    "\n",
    "Where $ k $ is the retention factor and $ P' $ is the polarity index of the eluant.\n",
    "\n",
    "Since the retention factor is a partition coefficient, and that the stationary phase in reverse phase chromatography is similar to octanol, we can assume that $ \\log k = \\log P $ when the eluant is pure water. Thus we get:\n",
    "\n",
    "$$\n",
    "    \\tag 2\n",
    "    \\log P = a \\cdot P'_{H_{2}O} + b\n",
    "$$\n",
    "\n",
    "By subtracting equation $(1)$ to equation $(2)$ we get:\n",
    "\n",
    "$$\n",
    "    \\tag 3\n",
    "    \\log P - \\log k = a\\cdot(P'_{H_{2}O}-P')\n",
    "$$\n",
    "\n",
    "Plugging in the values given in the article provided above, we can calulate that $ a = 0.5 $. We thus get:\n",
    "\n",
    "$$\n",
    "    \\tag 4\n",
    "    \\log k = \\log P - 0.5\\cdot(10.2-P')\n",
    "$$\n",
    "\n",
    "Which is the formula used to calculate the retention factor in the function.\n",
    "\n",
    "The function then returns the retention factor as a `float`."
   ]
  },
  {
   "cell_type": "markdown",
   "id": "4bd6dccb",
   "metadata": {},
   "source": [
    "**Uses**\n",
    "\n",
    "This function is very useful to plan a chromatography. For example, the user can run several tests with different polarity indices for a given set of logP values, until they find a polarity index that allows a good separation. The user could also use the function to optimise or minimise the retention time of a solute."
   ]
  },
  {
   "cell_type": "markdown",
   "id": "7be19720",
   "metadata": {},
   "source": [
    "**Example**"
   ]
  },
  {
   "cell_type": "code",
   "execution_count": null,
   "id": "c5bc13e8",
   "metadata": {},
   "outputs": [],
   "source": [
    "# yeah i will code an example later."
   ]
  },
  {
   "cell_type": "markdown",
   "id": "443e4319",
   "metadata": {},
   "source": [
    "#### 3.4: Chromatogram plot"
   ]
  },
  {
   "cell_type": "markdown",
   "id": "a7886429",
   "metadata": {},
   "source": [
    "The function `generate_chromatogram` generates a chromatogram plot from a dataframe (for example such as generated by `gives_data_frame`), the polarity index of the eluant and the dead time of the chromatography column. The chromatogram is a very rudimentary one, as it only shows the retention times as calculated by `estimate_retention_factor` – it doesn't give the resolution, the width of the peaks, etc."
   ]
  },
  {
   "cell_type": "markdown",
   "id": "68516b24",
   "metadata": {},
   "source": [
    "**How it works**\n",
    "\n",
    "***!!NEED TO IMPROVE THAT LATER!!***\n",
    "\n",
    "The function has three parameters: `solutes`, `dead_time` and `polarity_index`.\n",
    "\n",
    "`solutes` is a `DataFrame` containing the logP values of the solutes the user wishes to see the chromatogram of.\n",
    "`polarity_index` and `dead_time`, both `float`, are respectively the polarity index of the eluant (for example as calculated by `calculate_polarity_index`) and the dead time of the chromatography column.\n",
    "\n",
    "The function first calculates the retention times by calling `estimate_retention_factor`, using the logP, dead time and polarity index values given, and then plots the signals as a function of time in minutes. As said before, this is a very \"crude\" chromatogram. The signals are only shown as a straight line with no width, and the retention times are approximations."
   ]
  },
  {
   "cell_type": "markdown",
   "id": "61724879",
   "metadata": {},
   "source": [
    "**Uses**\n",
    "\n",
    "This function is mainly a visual complement to `estimate_retention_factor`. It helps streamline the process of finding the right eluant for reverse phase HPLC to allow the best compromise between high separation and low retention time."
   ]
  },
  {
   "cell_type": "markdown",
   "id": "7c4df068",
   "metadata": {},
   "source": [
    "**Example**"
   ]
  },
  {
   "cell_type": "code",
   "execution_count": null,
   "id": "a45c7c03",
   "metadata": {},
   "outputs": [],
   "source": [
    "# again, will write later"
   ]
  },
  {
   "cell_type": "markdown",
   "id": "b98acbf0",
   "metadata": {},
   "source": [
    "#### Conclusion"
   ]
  },
  {
   "cell_type": "markdown",
   "id": "efa7357c",
   "metadata": {},
   "source": [
    "OrgAn provides a modular framework for the extraction, analysis, and simulation of molecular properties relevant to organic chemistry. By combining automated data retrieval, descriptor analysis, and chromatographic modeling, the tool helps chemists better understand molecular behavior and plan efficient separations based on physicochemical criteria."
   ]
  }
 ],
 "metadata": {
  "kernelspec": {
   "display_name": "Organ",
   "language": "python",
   "name": "python3"
  },
  "language_info": {
   "codemirror_mode": {
    "name": "ipython",
    "version": 3
   },
   "file_extension": ".py",
   "mimetype": "text/x-python",
   "name": "python",
   "nbconvert_exporter": "python",
   "pygments_lexer": "ipython3",
   "version": "3.13.2"
  }
 },
 "nbformat": 4,
 "nbformat_minor": 5
}
