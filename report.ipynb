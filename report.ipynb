{
 "cells": [
  {
   "cell_type": "markdown",
   "id": "027e8609",
   "metadata": {},
   "source": [
    "# OrgAn: Molecular Analysis and Chromatographic Simulation\n",
    "\n",
    "*Raphaël Tisseyre, Bastien Pinsard, Johan Schmidt*\n",
    "\n",
    "OrgAn is a computational framework designed for the extraction, analysis, and simulation of molecular properties in the context of organic chemistry.\n",
    "\n",
    "This notebook presents a modular workflow to:\n",
    "- Load molecular data from a CSV file containing SMILES representations,\n",
    "- Retrieve physicochemical and structural descriptors from external chemical databases (e.g., PubChem),\n",
    "- Apply analytical functions to explore molecular trends such as acidity and hydrophobicity,\n",
    "- Simulate chromatographic separation based on calculated parameters.\n",
    "\n",
    "All modules are designed to operate on standardized input formats and produce structured outputs suitable for further analysis or visualization."
   ]
  },
  {
   "cell_type": "code",
   "execution_count": 6,
   "id": "d8166ffb",
   "metadata": {},
   "outputs": [],
   "source": [
    "import os  \n",
    "import sys  \n",
    "\n",
    "current_dir = os.getcwd()  \n",
    "target_dir_relative = os.path.join(\"src\", \"OrgAn\")  \n",
    "target_dir_absolute = os.path.abspath(os.path.join(current_dir, target_dir_relative))  \n",
    "sys.path.append(target_dir_absolute)"
   ]
  },
  {
   "cell_type": "markdown",
   "id": "454afeca",
   "metadata": {},
   "source": [
    "### 0. Building the Dataset from a CSV File\n",
    "\n",
    "In order to initiate molecular property analysis, a dataset must first be constructed from a user-provided CSV file. The expected input is a `.csv` file containing a single column labeled `smiles`, where each row represents a molecule encoded in the SMILES (Simplified Molecular Input Line Entry System) format.\n",
    "\n",
    "**Example:**\n",
    "\n",
    "```\n",
    "smiles\n",
    "CCO\n",
    "c1ccccc1\n",
    "CC(=O)O"
   ]
  },
  {
   "cell_type": "markdown",
   "id": "5fb6c7a8",
   "metadata": {},
   "source": [
    "This file serves as the primary input for all subsequent data processing steps. Each SMILES string will be used to extract physicochemical and structural properties from external databases. The resulting dataset is formatted as a `pandas.DataFrame`, which can then be processed using the functions defined in this project."
   ]
  },
  {
   "cell_type": "markdown",
   "id": "6b589741",
   "metadata": {},
   "source": [
    "### 1. PubChem Request\n",
    "\n",
    "**How it works:**  \n",
    "The function `get_mol_info_from_smiles(smiles: str)` extracts structural and physicochemical descriptors from the PubChem database, using a molecular SMILES as input.\n",
    "\n",
    "It collects key information such as the canonical SMILES, IUPAC name, molecular weight, formula, logP, formal charge, and CAS number. When available, pKa values are also retrieved and parsed. If 3D structural data is accessible, Sterimol descriptors (L, B1, B5) are computed using the `morfeus` library.\n",
    "\n",
    "The function returns all gathered data in a dictionary format. Missing values are handled gracefully and replaced with `None` when not found.\n",
    "\n",
    "**Uses:**  \n",
    "This function is used to programmatically obtain molecular data when a compound is not already present in the local dataset. It is internally called within the `gives_data_frame()` function to supplement or complete entries in the main molecular database.\n",
    "\n",
    "The extracted data ensures compatibility with downstream analysis steps such as property filtering, clustering, and chromatographic modeling.\n",
    "\n",
    "**Example:** "
   ]
  },
  {
   "cell_type": "code",
   "execution_count": 7,
   "id": "1e13bd4c",
   "metadata": {},
   "outputs": [
    {
     "name": "stdout",
     "output_type": "stream",
     "text": [
      "{'name': '2-acetyloxybenzoic acid', 'cid': 2244, 'CAS': '50-78-2', 'smiles': 'CC(=O)Oc1ccccc1C(=O)O', 'molWeight': 180.16, 'molFormula': 'C9H8O4', 'logP': 1.2, 'is_pKa_parent_compound': False, 'pKa': 3.47, 'charge': 0, 'sterimol_L': 6.74, 'sterimol_B1': 1.8, 'sterimol_B5': 5.46}\n"
     ]
    }
   ],
   "source": [
    "from pchem_rq import get_mol_info_from_smiles\n",
    "\n",
    "smiles = \"CC(=O)Oc1ccccc1C(=O)O\"  # Aspirin\n",
    "info = get_mol_info_from_smiles(smiles)\n",
    "print(info)"
   ]
  },
  {
   "cell_type": "markdown",
   "id": "0cdda3c5",
   "metadata": {},
   "source": [
    "### 2. Dataframe functions"
   ]
  },
  {
   "cell_type": "markdown",
   "id": "ac31ff77",
   "metadata": {},
   "source": [
    "This section will treat functions dedicated to the DataFrame handling. "
   ]
  },
  {
   "cell_type": "markdown",
   "id": "feb82951",
   "metadata": {},
   "source": [
    "#### 2.1. PkA and logP gaps "
   ]
  },
  {
   "cell_type": "markdown",
   "id": "3bc2f803",
   "metadata": {},
   "source": [
    "The functions find_logp_gaps and find_pka_gaps are designed to find the biggest gaps of logp/pka in the DataFrame of entry. The utility behind it is to find separation of hydrophilic phases and hydrophobic ones and the sepration between the acidic compound and the basic one into your sample. \n",
    "\n",
    "**How it works:**  \n",
    "The functions take in entry a Dataframe, which is assumed to be the one returned by gives_data_frame, and the number of gaps one wants. It is first going to sort the dataframe along the logp or pka column. Then a for loop goes through the it to take the maximum of the differences and the two indexes. At the end of the loop, it will return a dictionary with the values of the gaps and the indexes. \n",
    "\n",
    "The function will take in consideration a maximum of difference of ±1.5 for the logP and ±3 for each the sterimol. \n",
    "\n",
    "**Uses:**  \n",
    "In organic chemistry, one will often need to separate compounds which can be quite difficult for complex solutions. However, if one knows the interesting gaps of its solution, one can easily do a separation along the pH or the hydrophilicity. \n",
    "\n",
    "These gaps can also be useful for chromatography to manage composition gradients. Indeed, if one knows the logP gaps, one knows that a change of the composition of eluant can be done to make the chromatography faster and save time. \n",
    "\n",
    "**Example:** "
   ]
  },
  {
   "cell_type": "code",
   "execution_count": null,
   "id": "51492987",
   "metadata": {},
   "outputs": [],
   "source": []
  },
  {
   "cell_type": "markdown",
   "id": "f345a0d7",
   "metadata": {},
   "source": [
    "#### 2.2. Compound suggestion "
   ]
  },
  {
   "cell_type": "markdown",
   "id": "391e9159",
   "metadata": {},
   "source": [
    "The function find_compounds finds the 5 best fits of one’s properties criterion from the database of the package. \n",
    "\n",
    "**How it works:**  \n",
    "The entries of the function are the pka, logp, charge, sterimol (L, B1 and B5) and smile. If the user enters a smile, it will simply search in the database for the precise compound or with a Pubchem request. However, if the user enters no smiles but criterions, the function will sort the database to find the 5 best matches. \n",
    "\n",
    "**Uses:**  \n",
    "This function aims organic chemists in synthesis. Reactions which need an acid or base, are often determined by the charge, the bulkiness, and of course the acidity. It can lead to thermodynamic or kinetic products which have different properties of interest. This applies not only for these types of reactions but whenever one knows the properties of the reactant. \n",
    "\n",
    "**Example:** "
   ]
  },
  {
   "cell_type": "code",
   "execution_count": 18,
   "id": "f89cc071",
   "metadata": {},
   "outputs": [
    {
     "ename": "KeyError",
     "evalue": "'Names'",
     "output_type": "error",
     "traceback": [
      "\u001b[1;31m---------------------------------------------------------------------------\u001b[0m",
      "\u001b[1;31mKeyError\u001b[0m                                  Traceback (most recent call last)",
      "File \u001b[1;32mc:\\Users\\johsc\\anaconda3\\envs\\ppchem\\lib\\site-packages\\pandas\\core\\indexes\\base.py:3805\u001b[0m, in \u001b[0;36mIndex.get_loc\u001b[1;34m(self, key)\u001b[0m\n\u001b[0;32m   3804\u001b[0m \u001b[38;5;28;01mtry\u001b[39;00m:\n\u001b[1;32m-> 3805\u001b[0m     \u001b[38;5;28;01mreturn\u001b[39;00m \u001b[38;5;28;43mself\u001b[39;49m\u001b[38;5;241;43m.\u001b[39;49m\u001b[43m_engine\u001b[49m\u001b[38;5;241;43m.\u001b[39;49m\u001b[43mget_loc\u001b[49m\u001b[43m(\u001b[49m\u001b[43mcasted_key\u001b[49m\u001b[43m)\u001b[49m\n\u001b[0;32m   3806\u001b[0m \u001b[38;5;28;01mexcept\u001b[39;00m \u001b[38;5;167;01mKeyError\u001b[39;00m \u001b[38;5;28;01mas\u001b[39;00m err:\n",
      "File \u001b[1;32mindex.pyx:167\u001b[0m, in \u001b[0;36mpandas._libs.index.IndexEngine.get_loc\u001b[1;34m()\u001b[0m\n",
      "File \u001b[1;32mindex.pyx:196\u001b[0m, in \u001b[0;36mpandas._libs.index.IndexEngine.get_loc\u001b[1;34m()\u001b[0m\n",
      "File \u001b[1;32mpandas\\\\_libs\\\\hashtable_class_helper.pxi:7081\u001b[0m, in \u001b[0;36mpandas._libs.hashtable.PyObjectHashTable.get_item\u001b[1;34m()\u001b[0m\n",
      "File \u001b[1;32mpandas\\\\_libs\\\\hashtable_class_helper.pxi:7089\u001b[0m, in \u001b[0;36mpandas._libs.hashtable.PyObjectHashTable.get_item\u001b[1;34m()\u001b[0m\n",
      "\u001b[1;31mKeyError\u001b[0m: 'Names'",
      "\nThe above exception was the direct cause of the following exception:\n",
      "\u001b[1;31mKeyError\u001b[0m                                  Traceback (most recent call last)",
      "Cell \u001b[1;32mIn[18], line 2\u001b[0m\n\u001b[0;32m      1\u001b[0m \u001b[38;5;28;01mfrom\u001b[39;00m\u001b[38;5;250m \u001b[39m\u001b[38;5;21;01mfunctions\u001b[39;00m\u001b[38;5;250m \u001b[39m\u001b[38;5;28;01mimport\u001b[39;00m find_compounds\n\u001b[1;32m----> 2\u001b[0m suggestion_1 \u001b[38;5;241m=\u001b[39m \u001b[43mfind_compounds\u001b[49m\u001b[43m(\u001b[49m\u001b[43msmiles\u001b[49m\u001b[38;5;241;43m=\u001b[39;49m\u001b[38;5;124;43m\"\u001b[39;49m\u001b[38;5;124;43mCCO\u001b[39;49m\u001b[38;5;124;43m\"\u001b[39;49m\u001b[43m)\u001b[49m\n\u001b[0;32m      3\u001b[0m suggestion_2 \u001b[38;5;241m=\u001b[39m find_compounds(pKa \u001b[38;5;241m=\u001b[39m \u001b[38;5;241m4\u001b[39m, charge \u001b[38;5;241m=\u001b[39m \u001b[38;5;241m0\u001b[39m)\n",
      "File \u001b[1;32mc:\\Users\\johsc\\OrgAn\\src\\OrgAn\\functions.py:134\u001b[0m, in \u001b[0;36mfind_compounds\u001b[1;34m(pka, logP, charge, sterimol, smiles)\u001b[0m\n\u001b[0;32m    130\u001b[0m     \u001b[38;5;28;01massert\u001b[39;00m \u001b[38;5;167;01mValueError\u001b[39;00m(\u001b[38;5;124mf\u001b[39m\u001b[38;5;124m\"\u001b[39m\u001b[38;5;124mThe smiles is not correct. Error : \u001b[39m\u001b[38;5;130;01m\\n\u001b[39;00m\u001b[38;5;132;01m{\u001b[39;00me\u001b[38;5;132;01m}\u001b[39;00m\u001b[38;5;124m\"\u001b[39m)\n\u001b[0;32m    132\u001b[0m \u001b[38;5;28;01mif\u001b[39;00m \u001b[38;5;129;01mnot\u001b[39;00m data_sorted\u001b[38;5;241m.\u001b[39mempty:\n\u001b[0;32m    133\u001b[0m     properties : \u001b[38;5;28mdict\u001b[39m[\u001b[38;5;28mstr\u001b[39m, \u001b[38;5;28mstr\u001b[39m\u001b[38;5;241m|\u001b[39m\u001b[38;5;28mfloat\u001b[39m] \u001b[38;5;241m=\u001b[39m {\n\u001b[1;32m--> 134\u001b[0m         \u001b[38;5;124m\"\u001b[39m\u001b[38;5;124mNames\u001b[39m\u001b[38;5;124m\"\u001b[39m : \u001b[43mdata_sorted\u001b[49m\u001b[43m[\u001b[49m\u001b[38;5;124;43m\"\u001b[39;49m\u001b[38;5;124;43mNames\u001b[39;49m\u001b[38;5;124;43m\"\u001b[39;49m\u001b[43m]\u001b[49m\u001b[38;5;241m.\u001b[39miloc[\u001b[38;5;241m0\u001b[39m],\n\u001b[0;32m    135\u001b[0m         \u001b[38;5;124m\"\u001b[39m\u001b[38;5;124mSmiles\u001b[39m\u001b[38;5;124m\"\u001b[39m : data_sorted[\u001b[38;5;124m\"\u001b[39m\u001b[38;5;124mSmiles\u001b[39m\u001b[38;5;124m\"\u001b[39m]\u001b[38;5;241m.\u001b[39miloc[\u001b[38;5;241m0\u001b[39m],\n\u001b[0;32m    136\u001b[0m         \u001b[38;5;124m\"\u001b[39m\u001b[38;5;124mpKa\u001b[39m\u001b[38;5;124m\"\u001b[39m : data_sorted[\u001b[38;5;124m\"\u001b[39m\u001b[38;5;124mpka\u001b[39m\u001b[38;5;124m\"\u001b[39m]\u001b[38;5;241m.\u001b[39miloc[\u001b[38;5;241m0\u001b[39m],\n\u001b[0;32m    137\u001b[0m         \u001b[38;5;124m\"\u001b[39m\u001b[38;5;124mNucleophilicity\u001b[39m\u001b[38;5;124m\"\u001b[39m : data_sorted[\u001b[38;5;124m\"\u001b[39m\u001b[38;5;124mNucleophilicity\u001b[39m\u001b[38;5;124m\"\u001b[39m]\u001b[38;5;241m.\u001b[39miloc[\u001b[38;5;241m0\u001b[39m]\n\u001b[0;32m    138\u001b[0m     }\n\u001b[0;32m    139\u001b[0m     \u001b[38;5;28;01mreturn\u001b[39;00m pd\u001b[38;5;241m.\u001b[39mDataFrame(properties)\n\u001b[0;32m    140\u001b[0m \u001b[38;5;28;01melse\u001b[39;00m: \n",
      "File \u001b[1;32mc:\\Users\\johsc\\anaconda3\\envs\\ppchem\\lib\\site-packages\\pandas\\core\\frame.py:4102\u001b[0m, in \u001b[0;36mDataFrame.__getitem__\u001b[1;34m(self, key)\u001b[0m\n\u001b[0;32m   4100\u001b[0m \u001b[38;5;28;01mif\u001b[39;00m \u001b[38;5;28mself\u001b[39m\u001b[38;5;241m.\u001b[39mcolumns\u001b[38;5;241m.\u001b[39mnlevels \u001b[38;5;241m>\u001b[39m \u001b[38;5;241m1\u001b[39m:\n\u001b[0;32m   4101\u001b[0m     \u001b[38;5;28;01mreturn\u001b[39;00m \u001b[38;5;28mself\u001b[39m\u001b[38;5;241m.\u001b[39m_getitem_multilevel(key)\n\u001b[1;32m-> 4102\u001b[0m indexer \u001b[38;5;241m=\u001b[39m \u001b[38;5;28;43mself\u001b[39;49m\u001b[38;5;241;43m.\u001b[39;49m\u001b[43mcolumns\u001b[49m\u001b[38;5;241;43m.\u001b[39;49m\u001b[43mget_loc\u001b[49m\u001b[43m(\u001b[49m\u001b[43mkey\u001b[49m\u001b[43m)\u001b[49m\n\u001b[0;32m   4103\u001b[0m \u001b[38;5;28;01mif\u001b[39;00m is_integer(indexer):\n\u001b[0;32m   4104\u001b[0m     indexer \u001b[38;5;241m=\u001b[39m [indexer]\n",
      "File \u001b[1;32mc:\\Users\\johsc\\anaconda3\\envs\\ppchem\\lib\\site-packages\\pandas\\core\\indexes\\base.py:3812\u001b[0m, in \u001b[0;36mIndex.get_loc\u001b[1;34m(self, key)\u001b[0m\n\u001b[0;32m   3807\u001b[0m     \u001b[38;5;28;01mif\u001b[39;00m \u001b[38;5;28misinstance\u001b[39m(casted_key, \u001b[38;5;28mslice\u001b[39m) \u001b[38;5;129;01mor\u001b[39;00m (\n\u001b[0;32m   3808\u001b[0m         \u001b[38;5;28misinstance\u001b[39m(casted_key, abc\u001b[38;5;241m.\u001b[39mIterable)\n\u001b[0;32m   3809\u001b[0m         \u001b[38;5;129;01mand\u001b[39;00m \u001b[38;5;28many\u001b[39m(\u001b[38;5;28misinstance\u001b[39m(x, \u001b[38;5;28mslice\u001b[39m) \u001b[38;5;28;01mfor\u001b[39;00m x \u001b[38;5;129;01min\u001b[39;00m casted_key)\n\u001b[0;32m   3810\u001b[0m     ):\n\u001b[0;32m   3811\u001b[0m         \u001b[38;5;28;01mraise\u001b[39;00m InvalidIndexError(key)\n\u001b[1;32m-> 3812\u001b[0m     \u001b[38;5;28;01mraise\u001b[39;00m \u001b[38;5;167;01mKeyError\u001b[39;00m(key) \u001b[38;5;28;01mfrom\u001b[39;00m\u001b[38;5;250m \u001b[39m\u001b[38;5;21;01merr\u001b[39;00m\n\u001b[0;32m   3813\u001b[0m \u001b[38;5;28;01mexcept\u001b[39;00m \u001b[38;5;167;01mTypeError\u001b[39;00m:\n\u001b[0;32m   3814\u001b[0m     \u001b[38;5;66;03m# If we have a listlike key, _check_indexing_error will raise\u001b[39;00m\n\u001b[0;32m   3815\u001b[0m     \u001b[38;5;66;03m#  InvalidIndexError. Otherwise we fall through and re-raise\u001b[39;00m\n\u001b[0;32m   3816\u001b[0m     \u001b[38;5;66;03m#  the TypeError.\u001b[39;00m\n\u001b[0;32m   3817\u001b[0m     \u001b[38;5;28mself\u001b[39m\u001b[38;5;241m.\u001b[39m_check_indexing_error(key)\n",
      "\u001b[1;31mKeyError\u001b[0m: 'Names'"
     ]
    }
   ],
   "source": [
    "from functions import find_compounds\n",
    "suggestion_1 = find_compounds(smiles=\"CCO\")\n",
    "suggestion_2 = find_compounds(pKa = 4, charge = 0)"
   ]
  },
  {
   "cell_type": "markdown",
   "id": "c050dc5f",
   "metadata": {},
   "source": [
    "### 3. Chromatography"
   ]
  },
  {
   "cell_type": "markdown",
   "id": "b0fb4cc0",
   "metadata": {},
   "source": [
    "#### 3.1. Elution order estimation"
   ]
  },
  {
   "cell_type": "markdown",
   "id": "ee170433",
   "metadata": {},
   "source": [
    "The function `get_elution_order` estimates an elution order by sorting given compounds by their logP values. Since the logP is an indication of the hydrophobicity of a compound, it can be used to estimate the elution order in liquid chromatography. However, this is only an estimation as the elution order also depends on factors such as hydrogen bonds and dipole moments, which are not taken into account in the logP value."
   ]
  },
  {
   "cell_type": "markdown",
   "id": "b113afc8",
   "metadata": {},
   "source": [
    "**How it works**\n",
    "\n",
    "The function has two parameters: `solutes` and `is_reverse_phase`. \n",
    "`solutes` is a dataframe containing the logP of the solutes (e.g. generated using `gives_data_frame`).\n",
    "`is_reverse_phase` is a boolean determining if the chromatography is normal phase or reverse phase.\n",
    "\n",
    "The function then sorts the dataframe by the value of each compound's logP, in descending order if the chromatography is normal phase, in ascending order if it is reverse phase. The function then outputs the sorted dataframe."
   ]
  },
  {
   "cell_type": "markdown",
   "id": "f87cd474",
   "metadata": {},
   "source": [
    "**Uses**\n",
    "\n",
    "Estimating the elution order can help the user plan for their chromatography. For example, it can help them decide whether to use normal phase or reverse phase."
   ]
  },
  {
   "cell_type": "markdown",
   "id": "353d6248",
   "metadata": {},
   "source": [
    "**Example**"
   ]
  },
  {
   "cell_type": "code",
   "execution_count": null,
   "id": "2e2d83dd",
   "metadata": {},
   "outputs": [
    {
     "ename": "ModuleNotFoundError",
     "evalue": "No module named 'OrgAn.pchem_rq'",
     "output_type": "error",
     "traceback": [
      "\u001b[1;31m---------------------------------------------------------------------------\u001b[0m",
      "\u001b[1;31mModuleNotFoundError\u001b[0m                       Traceback (most recent call last)",
      "Cell \u001b[1;32mIn[4], line 1\u001b[0m\n\u001b[1;32m----> 1\u001b[0m \u001b[38;5;28;01mfrom\u001b[39;00m\u001b[38;5;250m \u001b[39m\u001b[38;5;21;01mfunctions\u001b[39;00m\u001b[38;5;250m \u001b[39m\u001b[38;5;28;01mimport\u001b[39;00m gives_data_frame\n\u001b[0;32m      2\u001b[0m \u001b[38;5;28;01mfrom\u001b[39;00m\u001b[38;5;250m \u001b[39m\u001b[38;5;21;01mchromato\u001b[39;00m\u001b[38;5;250m \u001b[39m\u001b[38;5;28;01mimport\u001b[39;00m get_elution_order\n\u001b[0;32m      4\u001b[0m solutes \u001b[38;5;241m=\u001b[39m gives_data_frame(\u001b[38;5;124m\"\u001b[39m\u001b[38;5;124mtests/test_data.csv\u001b[39m\u001b[38;5;124m\"\u001b[39m)\n",
      "File \u001b[1;32mc:\\Users\\johsc\\OrgAn\\src\\OrgAn\\functions.py:7\u001b[0m\n\u001b[0;32m      4\u001b[0m \u001b[38;5;28;01mfrom\u001b[39;00m\u001b[38;5;250m \u001b[39m\u001b[38;5;21;01mrdkit\u001b[39;00m\u001b[38;5;250m \u001b[39m\u001b[38;5;28;01mimport\u001b[39;00m Chem\n\u001b[0;32m      5\u001b[0m \u001b[38;5;28;01mfrom\u001b[39;00m\u001b[38;5;250m \u001b[39m\u001b[38;5;21;01mpathlib\u001b[39;00m\u001b[38;5;250m \u001b[39m\u001b[38;5;28;01mimport\u001b[39;00m Path\n\u001b[1;32m----> 7\u001b[0m \u001b[38;5;28;01mfrom\u001b[39;00m\u001b[38;5;250m \u001b[39m\u001b[38;5;21;01mOrgAn\u001b[39;00m\u001b[38;5;21;01m.\u001b[39;00m\u001b[38;5;21;01mpchem_rq\u001b[39;00m\u001b[38;5;250m \u001b[39m\u001b[38;5;28;01mimport\u001b[39;00m get_mol_info_from_smiles\n\u001b[0;32m     10\u001b[0m datapath \u001b[38;5;241m=\u001b[39m \u001b[38;5;124m\"\u001b[39m\u001b[38;5;124mdata/data.csv\u001b[39m\u001b[38;5;124m\"\u001b[39m\n\u001b[0;32m     11\u001b[0m data : pd\u001b[38;5;241m.\u001b[39mDataFrame \u001b[38;5;241m=\u001b[39m pd\u001b[38;5;241m.\u001b[39mread_csv(datapath)\n",
      "\u001b[1;31mModuleNotFoundError\u001b[0m: No module named 'OrgAn.pchem_rq'"
     ]
    }
   ],
   "source": [
    "from functions import gives_data_frame\n",
    "from chromato import get_elution_order\n",
    "\n",
    "solutes = gives_data_frame(\"tests/test_data.csv\")\n",
    "print(get_elution_order(solutes))"
   ]
  },
  {
   "cell_type": "markdown",
   "id": "eaaad72e",
   "metadata": {},
   "source": [
    "#### 3.2. Polarity index calculation"
   ]
  },
  {
   "cell_type": "markdown",
   "id": "43a954fc",
   "metadata": {},
   "source": [
    "The function `calculate_polarity_index` calculates the polarity index of an eluant using the table 28.4.1 provided [here](https://chem.libretexts.org/Bookshelves/Analytical_Chemistry/Instrumental_Analysis_(LibreTexts)/28%3A_High-Performance_Liquid_Chromatography/28.04%3A_Partition_Chromatography).  "
   ]
  },
  {
   "cell_type": "markdown",
   "id": "9adcf375",
   "metadata": {},
   "source": [
    "**How it works**\n",
    "\n",
    "The function's parameters are: `cyclohex`, `n_hex`, `ccl4`, `ipr_ether`, `toluene`, `et2o`, `thf`, `etoh`, `etoac`, `dioxane`, `meoh`, `mecn` and `water`, all `float`.\n",
    "\n",
    "The parameters correspond to the volume fractions of, respectively, cyclohexane, n-hexane, carbon tetrachloride, isopropyl ether, toluene, diethyl ether, tetrahydrofuran, ethanol, ethyl acetate, 1,4-dioxane, methanol, acetonitrile and water present in the eluant.\n",
    "\n",
    "If the total value of the volume fractions exceeds 1, the function raises a `ValueError`.\n",
    "\n",
    "The function returns the polarity index of the eluant as a `float`."
   ]
  },
  {
   "cell_type": "markdown",
   "id": "aa2e1133",
   "metadata": {},
   "source": [
    "**Uses**\n",
    "\n",
    "Calculating the polarity index of an eluant helps the user plan for their chromatography, as the polarity of the eluant plays an important role on how well different solutes are separated, since a small variation in polarity index can induce a large variation on the retention factor."
   ]
  },
  {
   "cell_type": "markdown",
   "id": "88c9e2c9",
   "metadata": {},
   "source": [
    "**Example:**"
   ]
  },
  {
   "cell_type": "code",
   "execution_count": null,
   "id": "91ed7fbb",
   "metadata": {},
   "outputs": [
    {
     "name": "stdout",
     "output_type": "stream",
     "text": [
      "2.68\n"
     ]
    }
   ],
   "source": [
    "from chromato import calculate_polarity_index\n",
    "\n",
    "print(calculate_polarity_index(n_hex = 0.4, etoac = 0.6))"
   ]
  },
  {
   "cell_type": "markdown",
   "id": "ade47e1e",
   "metadata": {},
   "source": [
    "#### 3.3. Retention factor estimation"
   ]
  },
  {
   "cell_type": "markdown",
   "id": "69a9653d",
   "metadata": {},
   "source": [
    "The function `estimate_retention_factor` estimates a retention factor for reverse phase chromatography based on a given logP value and polarity index. However, this is only an estimation and has limitations. As stated before, the retention factor depends on more than just the logP, and later we make several more approximations, for example that octanol and the stationary phase in reverse phase chromatography are equivalent – they similar, but not equivalent.\n",
    "\n"
   ]
  },
  {
   "cell_type": "markdown",
   "id": "bf79948f",
   "metadata": {},
   "source": [
    "**How it works**\n",
    "\n",
    "The function has two parameters: `logP` and `polarity_index`, both `float`. The `logP` parameter is the logP value of the solute of which the user wants to calculate the retention factor, and `polarity_index` is the polarity index of the eluant, for example as calculated by `calculate_polarity_index`.\n",
    "\n",
    "The retention factor is then calculated using the following formula: $ \\log k = \\log P - 0.5\\cdot(10.2-P') $.\n",
    "\n",
    "Since the retention factor is the partition coefficient between the stationary phase and the mobile phase, and the logP is the log of the partition coefficient between octanol and water, the retention factor in reverse phase chromatography and logP must be correlated, as the stationary phase is usually made out of alcanes of similar length to octanol.\n",
    "\n",
    "[This article](https://chem.libretexts.org/Bookshelves/Analytical_Chemistry/Instrumental_Analysis_(LibreTexts)/28%3A_High-Performance_Liquid_Chromatography/28.04%3A_Partition_Chromatography) states: \n",
    "> As a general rule, a two unit change in the polarity index corresponds to an approximately 10-fold change in a solute’s retention factor. Here is a simple example. If a solute’s retention factor, k, is 22 when using water as a mobile phase (P′ = 10.2), then switching to a mobile phase of 60:40 water–methanol (P′ = 8.2) decreases k to approximately 2.2.\n",
    "\n",
    "Which means that the polarity index is an exponential function of the retention factor, or, in other words, that the log of the retention factor (logk) is proportional to the polarity index. We thus get as a general function:\n",
    "\n",
    "$$\n",
    "    \\tag 1\n",
    "    \\log k = a \\cdot P' + b\n",
    "$$\n",
    "\n",
    "Where $ k $ is the retention factor and $ P' $ is the polarity index of the eluant.\n",
    "\n",
    "Since the retention factor is a partition coefficient, and that the stationary phase in reverse phase chromatography is similar to octanol, we can assume that $ \\log k = \\log P $ when the eluant is pure water. Thus we get:\n",
    "\n",
    "$$\n",
    "    \\tag 2\n",
    "    \\log P = a \\cdot P'_{H_{2}O} + b\n",
    "$$\n",
    "\n",
    "By subtracting equation $(1)$ to equation $(2)$ we get:\n",
    "\n",
    "$$\n",
    "    \\tag 3\n",
    "    \\log P - \\log k = a\\cdot(P'_{H_{2}O}-P')\n",
    "$$\n",
    "\n",
    "Plugging in the values given in the article provided above, we can calulate that $ a = 0.5 $. We thus get:\n",
    "\n",
    "$$\n",
    "    \\tag 4\n",
    "    \\log k = \\log P - 0.5\\cdot(10.2-P')\n",
    "$$\n",
    "\n",
    "Which is the formula used to calculate the retention factor in the function.\n",
    "\n",
    "The function then returns the retention factor as a `float`."
   ]
  },
  {
   "cell_type": "markdown",
   "id": "4bd6dccb",
   "metadata": {},
   "source": [
    "**Uses**\n",
    "\n",
    "This function is very useful to plan a chromatography. For example, the user can run several tests with different polarity indices for a given set of logP values, until they find a polarity index that allows a good separation. The user could also use the function to optimise or minimise the retention time of a solute."
   ]
  },
  {
   "cell_type": "markdown",
   "id": "7be19720",
   "metadata": {},
   "source": [
    "**Example**"
   ]
  },
  {
   "cell_type": "code",
   "execution_count": null,
   "id": "c5bc13e8",
   "metadata": {},
   "outputs": [],
   "source": [
    "# yeah i will code an example later."
   ]
  },
  {
   "cell_type": "markdown",
   "id": "443e4319",
   "metadata": {},
   "source": [
    "#### 3.4: Chromatogram plot"
   ]
  },
  {
   "cell_type": "markdown",
   "id": "a7886429",
   "metadata": {},
   "source": [
    "The function `generate_chromatogram` generates a chromatogram plot from a dataframe (for example such as generated by `gives_data_frame`), the polarity index of the eluant and the dead time of the chromatography column. The chromatogram is a very rudimentary one, as it only shows the retention times as calculated by `estimate_retention_factor` – it doesn't give the resolution, the width of the peaks, etc."
   ]
  },
  {
   "cell_type": "markdown",
   "id": "68516b24",
   "metadata": {},
   "source": [
    "**How it works**\n",
    "\n",
    "***!!NEED TO IMPROVE THAT LATER!!***\n",
    "\n",
    "The function has three parameters: `solutes`, `dead_time` and `polarity_index`.\n",
    "\n",
    "`solutes` is a `DataFrame` containing the logP values of the solutes the user wishes to see the chromatogram of.\n",
    "`polarity_index` and `dead_time`, both `float`, are respectively the polarity index of the eluant (for example as calculated by `calculate_polarity_index`) and the dead time of the chromatography column.\n",
    "\n",
    "The function first calculates the retention times by calling `estimate_retention_factor`, using the logP, dead time and polarity index values given, and then plots the signals as a function of time in minutes. As said before, this is a very \"crude\" chromatogram. The signals are only shown as a straight line with no width, and the retention times are approximations."
   ]
  },
  {
   "cell_type": "markdown",
   "id": "61724879",
   "metadata": {},
   "source": [
    "**Uses**\n",
    "\n",
    "This function is mainly a visual complement to `estimate_retention_factor`. It helps streamline the process of finding the right eluant for reverse phase HPLC to allow the best compromise between high separation and low retention time."
   ]
  },
  {
   "cell_type": "markdown",
   "id": "7c4df068",
   "metadata": {},
   "source": [
    "**Example**"
   ]
  },
  {
   "cell_type": "code",
   "execution_count": null,
   "id": "a45c7c03",
   "metadata": {},
   "outputs": [],
   "source": [
    "# again, will write later"
   ]
  },
  {
   "cell_type": "markdown",
   "id": "b98acbf0",
   "metadata": {},
   "source": [
    "#### Conclusion"
   ]
  },
  {
   "cell_type": "markdown",
   "id": "efa7357c",
   "metadata": {},
   "source": []
  }
 ],
 "metadata": {
  "kernelspec": {
   "display_name": "ppchem",
   "language": "python",
   "name": "python3"
  },
  "language_info": {
   "codemirror_mode": {
    "name": "ipython",
    "version": 3
   },
   "file_extension": ".py",
   "mimetype": "text/x-python",
   "name": "python",
   "nbconvert_exporter": "python",
   "pygments_lexer": "ipython3",
   "version": "3.10.17"
  }
 },
 "nbformat": 4,
 "nbformat_minor": 5
}
