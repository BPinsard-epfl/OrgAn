{
 "cells": [
  {
   "cell_type": "markdown",
   "id": "0e8a1495",
   "metadata": {},
   "source": [
    "# OrgAn\n",
    "*Raphaël Tisseyre, Bastien Pinsard, Johan Schmidt*"
   ]
  },
  {
   "cell_type": "markdown",
   "id": "a7963cba",
   "metadata": {},
   "source": [
    "#### Introduction"
   ]
  },
  {
   "cell_type": "markdown",
   "id": "ad8b4031",
   "metadata": {},
   "source": []
  },
  {
   "cell_type": "markdown",
   "id": "b6064c0d",
   "metadata": {},
   "source": [
    "#### pchem_rq.py"
   ]
  },
  {
   "cell_type": "markdown",
   "id": "03bb2a03",
   "metadata": {},
   "source": []
  },
  {
   "cell_type": "markdown",
   "id": "c35e6886",
   "metadata": {},
   "source": [
    "#### functions.py"
   ]
  },
  {
   "cell_type": "markdown",
   "id": "38e58608",
   "metadata": {},
   "source": []
  },
  {
   "cell_type": "markdown",
   "id": "c050dc5f",
   "metadata": {},
   "source": [
    "#### chromato.py"
   ]
  },
  {
   "cell_type": "markdown",
   "id": "ee170433",
   "metadata": {},
   "source": [
    "This file contains a series of functions useful for HPLC applications. \n",
    "\n",
    "The function `get_elution_order` takes a DataFrame of several compounds as an input, and sorts them by their logP (ascending if it’s normal phase, descending if it’s reverse phase) to get an elution order estimate. Since the logP is nothing more than the partition coefficient between octanol and water, and that the retention factor is the partition coefficient between the mobile and stationary phases, the logP can give an estimate of the elution order. However, this estimate doesn’t take into account other factors, such as dipole moment and hydrogen bonds. "
   ]
  },
  {
   "cell_type": "code",
   "execution_count": null,
   "id": "2e2d83dd",
   "metadata": {},
   "outputs": [],
   "source": []
  },
  {
   "cell_type": "markdown",
   "id": "43a954fc",
   "metadata": {},
   "source": [
    "The function `calculate_polarity_index` calculates the polarity index of an eluant using the table 28.4.1 provided [here](https://chem.libretexts.org/Bookshelves/Analytical_Chemistry/Instrumental_Analysis_(LibreTexts)/28%3A_High-Performance_Liquid_Chromatography/28.04%3A_Partition_Chromatography).  "
   ]
  },
  {
   "cell_type": "code",
   "execution_count": 12,
   "id": "91ed7fbb",
   "metadata": {},
   "outputs": [
    {
     "name": "stdout",
     "output_type": "stream",
     "text": [
      "2.68\n"
     ]
    }
   ],
   "source": [
    "from src.OrgAn.chromato import calculate_polarity_index\n",
    "\n",
    "print(calculate_polarity_index(n_hex = 0.4, etoac = 0.6))"
   ]
  },
  {
   "cell_type": "markdown",
   "id": "69a9653d",
   "metadata": {},
   "source": [
    "The function `estimate_retention_factor` estimates a retention factor based on a logP value. The retention factor is calculated using the formula $ \\log k = \\log P – 0.5 \\cdot (10.2 - P’) $, where $ \\log k $ is the log of the retention factor and $ P’ $ is the polarity index of the eluant. As said before, the retention factor is correlated with the logP, as they are both partition coefficients. The [article](https://chem.libretexts.org/Bookshelves/Analytical_Chemistry/Instrumental_Analysis_(LibreTexts)/28%3A_High-Performance_Liquid_Chromatography/28.04%3A_Partition_Chromatography) provided above states: \n",
    "> As a general rule, a two unit change in the polarity index corresponds to an approximately 10-fold change in a solute’s retention factor. Here is a simple example. If a solute’s retention factor, k, is 22 when using water as a mobile phase (P′ = 10.2), then switching to a mobile phase of 60:40 water–methanol (P′ = 8.2) decreases k to approximately 2.2.\n",
    "\n",
    "Using these values, we can find an equation to approximate the retention factor based on the logP. "
   ]
  },
  {
   "cell_type": "code",
   "execution_count": null,
   "id": "c5bc13e8",
   "metadata": {},
   "outputs": [],
   "source": []
  },
  {
   "cell_type": "markdown",
   "id": "b98acbf0",
   "metadata": {},
   "source": [
    "#### Conclusion"
   ]
  },
  {
   "cell_type": "markdown",
   "id": "efa7357c",
   "metadata": {},
   "source": []
  }
 ],
 "metadata": {
  "kernelspec": {
   "display_name": "ppchem_project",
   "language": "python",
   "name": "python3"
  },
  "language_info": {
   "codemirror_mode": {
    "name": "ipython",
    "version": 3
   },
   "file_extension": ".py",
   "mimetype": "text/x-python",
   "name": "python",
   "nbconvert_exporter": "python",
   "pygments_lexer": "ipython3",
   "version": "3.10.16"
  }
 },
 "nbformat": 4,
 "nbformat_minor": 5
}
