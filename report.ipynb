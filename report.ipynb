{
 "cells": [
  {
   "cell_type": "markdown",
   "id": "0e8a1495",
   "metadata": {},
   "source": [
    "# OrgAn\n",
    "*Raphaël Tisseyre, Bastien Pinsard, Johan Schmidt*"
   ]
  },
  {
   "cell_type": "code",
   "execution_count": 1,
   "id": "68c6da0c",
   "metadata": {},
   "outputs": [],
   "source": [
    "import os\n",
    "import sys\n",
    "current_dir = os.getcwd()\n",
    "target_dir_relative = os.path.join(\"src\", \"OrgAn\")\n",
    "target_dir_absolute = os.path.abspath(os.path.join(current_dir, target_dir_relative))\n",
    "sys.path.append(target_dir_absolute)\n",
    "\n"
   ]
  },
  {
   "cell_type": "markdown",
   "id": "a7963cba",
   "metadata": {},
   "source": [
    "#### Introduction"
   ]
  },
  {
   "cell_type": "markdown",
   "id": "ad8b4031",
   "metadata": {},
   "source": []
  },
  {
   "cell_type": "markdown",
   "id": "b6064c0d",
   "metadata": {},
   "source": [
    "#### pchem_rq.py"
   ]
  },
  {
   "cell_type": "markdown",
   "id": "03bb2a03",
   "metadata": {},
   "source": []
  },
  {
   "cell_type": "markdown",
   "id": "c35e6886",
   "metadata": {},
   "source": [
    "#### functions.py"
   ]
  },
  {
   "cell_type": "markdown",
   "id": "38e58608",
   "metadata": {},
   "source": []
  },
  {
   "cell_type": "markdown",
   "id": "c050dc5f",
   "metadata": {},
   "source": [
    "### X: Chromatography"
   ]
  },
  {
   "cell_type": "markdown",
   "id": "b0fb4cc0",
   "metadata": {},
   "source": [
    "#### X.1: Elution order estimation"
   ]
  },
  {
   "cell_type": "markdown",
   "id": "ee170433",
   "metadata": {},
   "source": [
    "The function `get_elution_order` estimates an elution order by sorting given compounds by their logP values. Since the logP is an indication of the hydrophobicity of a compound, it can be used to estimate the elution order in liquid chromatography. However, this is only an estimation as the elution order also depends on factors such as hydrogen bonds and dipole moments, which are not taken into account in the logP value."
   ]
  },
  {
   "cell_type": "markdown",
   "id": "b113afc8",
   "metadata": {},
   "source": [
    "**How it works**\n",
    "\n",
    "The function has two parameters: `solutes` and `is_reverse_phase`. \n",
    "`solutes` is a dataframe containing the logP of the solutes (e.g. generated using `generate_properties_dataframe`).\n",
    "`is_reverse_phase` is a boolean determining if the chromatography is normal phase or reverse phase.\n",
    "\n",
    "The function then sorts the dataframe by the value of each compound's logP, in descending order if the chromatography is normal phase, in ascending order if it is reverse phase. The function then outputs the sorted dataframe."
   ]
  },
  {
   "cell_type": "markdown",
   "id": "f87cd474",
   "metadata": {},
   "source": [
    "**Usage**\n",
    "\n",
    "Estimating the elution order can help the user plan for their chromatography. For example, it can help them decide whether to use normal phase or reverse phase."
   ]
  },
  {
   "cell_type": "markdown",
   "id": "353d6248",
   "metadata": {},
   "source": [
    "**Example**"
   ]
  },
  {
   "cell_type": "code",
   "execution_count": 3,
   "id": "2e2d83dd",
   "metadata": {},
   "outputs": [
    {
     "name": "stdout",
     "output_type": "stream",
     "text": [
      "           name   cid   CAS   smiles  molWeight molFormula  logP    pKa  \\\n",
      "0        butane  7843  None     CCCC      58.12      C4H10   2.9    NaN   \n",
      "1         furan  8029  None  c1ccoc1      68.07      C4H4O   1.3    NaN   \n",
      "2     acetylene  6326  None      C#C      26.04       C2H2   0.4    NaN   \n",
      "3  propan-2-one   180  None  CC(C)=O      58.08      C3H6O  -0.1    NaN   \n",
      "4   acetic acid   176  None  CC(=O)O      60.05     C2H4O2  -0.2  4.756   \n",
      "\n",
      "   charge  sterimol_L  sterimol_B1  sterimol_B5  \n",
      "0       0        4.68         1.99         3.26  \n",
      "1       0        4.38         1.70         4.31  \n",
      "2       0        3.77         1.70         1.70  \n",
      "3       0        4.15         1.99         3.24  \n",
      "4       0        4.48         1.70         3.22  \n"
     ]
    }
   ],
   "source": [
    "from functions import gives_data_frame\n",
    "from chromato import get_elution_order\n",
    "\n",
    "solutes = gives_data_frame(\"tests/test_data.csv\")\n",
    "print(get_elution_order(solutes))"
   ]
  },
  {
   "cell_type": "markdown",
   "id": "43a954fc",
   "metadata": {},
   "source": [
    "The function `calculate_polarity_index` calculates the polarity index of an eluant using the table 28.4.1 provided [here](https://chem.libretexts.org/Bookshelves/Analytical_Chemistry/Instrumental_Analysis_(LibreTexts)/28%3A_High-Performance_Liquid_Chromatography/28.04%3A_Partition_Chromatography).  "
   ]
  },
  {
   "cell_type": "code",
   "execution_count": 12,
   "id": "91ed7fbb",
   "metadata": {},
   "outputs": [
    {
     "name": "stdout",
     "output_type": "stream",
     "text": [
      "2.68\n"
     ]
    }
   ],
   "source": [
    "from src.OrgAn.chromato import calculate_polarity_index\n",
    "\n",
    "print(calculate_polarity_index(n_hex = 0.4, etoac = 0.6))"
   ]
  },
  {
   "cell_type": "markdown",
   "id": "69a9653d",
   "metadata": {},
   "source": [
    "The function `estimate_retention_factor` estimates a retention factor based on a logP value. The retention factor is calculated using the formula $ \\log k = \\log P – 0.5 \\cdot (10.2 - P’) $, where $ \\log k $ is the log of the retention factor and $ P’ $ is the polarity index of the eluant. As said before, the retention factor is correlated with the logP, as they are both partition coefficients. The [article](https://chem.libretexts.org/Bookshelves/Analytical_Chemistry/Instrumental_Analysis_(LibreTexts)/28%3A_High-Performance_Liquid_Chromatography/28.04%3A_Partition_Chromatography) provided above states: \n",
    "> As a general rule, a two unit change in the polarity index corresponds to an approximately 10-fold change in a solute’s retention factor. Here is a simple example. If a solute’s retention factor, k, is 22 when using water as a mobile phase (P′ = 10.2), then switching to a mobile phase of 60:40 water–methanol (P′ = 8.2) decreases k to approximately 2.2.\n",
    "\n",
    "Using these values, we can find an equation to approximate the retention factor based on the logP. "
   ]
  },
  {
   "cell_type": "code",
   "execution_count": null,
   "id": "c5bc13e8",
   "metadata": {},
   "outputs": [],
   "source": []
  },
  {
   "cell_type": "markdown",
   "id": "b98acbf0",
   "metadata": {},
   "source": [
    "#### Conclusion"
   ]
  },
  {
   "cell_type": "markdown",
   "id": "efa7357c",
   "metadata": {},
   "source": []
  }
 ],
 "metadata": {
  "kernelspec": {
   "display_name": "ppchem-project",
   "language": "python",
   "name": "python3"
  },
  "language_info": {
   "codemirror_mode": {
    "name": "ipython",
    "version": 3
   },
   "file_extension": ".py",
   "mimetype": "text/x-python",
   "name": "python",
   "nbconvert_exporter": "python",
   "pygments_lexer": "ipython3",
   "version": "3.10.16"
  }
 },
 "nbformat": 4,
 "nbformat_minor": 5
}
