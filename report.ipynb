{
 "cells": [
  {
   "cell_type": "markdown",
   "id": "0e8a1495",
   "metadata": {},
   "source": [
    "# OrgAn\n",
    "*Raphaël Tisseyre, Bastien Pinsard, Johan Schmidt*"
   ]
  },
  {
   "cell_type": "markdown",
   "id": "a7963cba",
   "metadata": {},
   "source": [
    "#### Introduction"
   ]
  },
  {
   "cell_type": "markdown",
   "id": "ad8b4031",
   "metadata": {},
   "source": []
  },
  {
   "cell_type": "markdown",
   "id": "b6064c0d",
   "metadata": {},
   "source": [
    "#### pchem_rq.py"
   ]
  },
  {
   "cell_type": "markdown",
   "id": "03bb2a03",
   "metadata": {},
   "source": []
  },
  {
   "cell_type": "markdown",
   "id": "c35e6886",
   "metadata": {},
   "source": [
    "#### functions.py"
   ]
  },
  {
   "cell_type": "markdown",
   "id": "38e58608",
   "metadata": {},
   "source": []
  },
  {
   "cell_type": "markdown",
   "id": "c050dc5f",
   "metadata": {},
   "source": [
    "#### chromato.py"
   ]
  },
  {
   "cell_type": "markdown",
   "id": "ee170433",
   "metadata": {},
   "source": []
  },
  {
   "cell_type": "markdown",
   "id": "b98acbf0",
   "metadata": {},
   "source": [
    "#### Conclusion"
   ]
  },
  {
   "cell_type": "markdown",
   "id": "efa7357c",
   "metadata": {},
   "source": []
  }
 ],
 "metadata": {
  "language_info": {
   "name": "python"
  }
 },
 "nbformat": 4,
 "nbformat_minor": 5
}
